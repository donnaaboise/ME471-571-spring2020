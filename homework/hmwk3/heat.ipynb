{
 "cells": [
  {
   "cell_type": "code",
   "execution_count": null,
   "metadata": {},
   "outputs": [],
   "source": [
    "%matplotlib notebook\n",
    "%pylab"
   ]
  },
  {
   "cell_type": "code",
   "execution_count": null,
   "metadata": {},
   "outputs": [],
   "source": [
    "%%bash\n",
    "\n",
    "# Usage :  \n",
    "#    $ heat <N> <nout>\n",
    "# where <nout> is the number of output files to create (plus first and last time steps)\n",
    "\n",
    "time heat 128 10"
   ]
  },
  {
   "cell_type": "code",
   "execution_count": null,
   "metadata": {},
   "outputs": [],
   "source": [
    "# Open file for reading; use binary mode\n",
    "fout = open(\"heat.out\",\"rb\")\n",
    "\n",
    "# Read meta data\n",
    "dt_meta = dtype([('N','int32'),('a','d'),('b','d'),('M','int32')])\n",
    "d = fromfile(fout,dtype=dt_meta, count=1)[0]\n",
    "\n",
    "# create dictionary containing meta data\n",
    "parms = dict(zip(dt_meta.fields,d))\n",
    "\n",
    "# Print meta data from dictionary\n",
    "print(\"N = {N:d}\\nM = {M:d}\\na = {a:g}\\nb = {b:g}\".format(**parms))\n",
    "\n",
    "# Assign values in tuple directly (for use below)\n",
    "N,a,b,M = d\n",
    "\n",
    "# Read solution data\n",
    "dt_heat = dtype([('t','d'),('q','d',N+1)])  \n",
    "data = fromfile(fout,dtype=dt_heat)\n",
    "Mout = len(data) # Number of time steps output.\n",
    "print(\"M (out) = {:d}\".format(Mout))\n",
    "\n",
    "# Close file\n",
    "fout.close()"
   ]
  },
  {
   "cell_type": "code",
   "execution_count": null,
   "metadata": {},
   "outputs": [],
   "source": [
    "fig = figure(1)\n",
    "clf()\n",
    "\n",
    "q = data[0][1]\n",
    "x = linspace(a,b,N+1)\n",
    "\n",
    "hdl, = plot(x,q,linewidth=2,color='b',label='Computed solution')\n",
    "tstr = 'Time : {:.6f}'.format\n",
    "htitle = title(tstr(0))\n",
    "\n",
    "xlabel('x',fontsize=16)\n",
    "ylabel('q(x,t)',fontsize=16)\n",
    "xlim([a,b])\n",
    "ylim([-0.1,1.1])\n",
    "fig.canvas.draw()  \n",
    "\n",
    "for n in range(1,Mout):\n",
    "    t = data[n][0];\n",
    "    q = data[n][1];\n",
    "\n",
    "    hdl.set_ydata(q)\n",
    "    htitle.set_text(tstr(t))\n",
    "    \n",
    "    # Refresh plot; update title\n",
    "    fig.canvas.draw()      \n",
    "\n",
    "    pause(0.2)    "
   ]
  },
  {
   "cell_type": "code",
   "execution_count": null,
   "metadata": {},
   "outputs": [],
   "source": []
  }
 ],
 "metadata": {
  "kernelspec": {
   "display_name": "Python 3",
   "language": "python",
   "name": "python3"
  },
  "language_info": {
   "codemirror_mode": {
    "name": "ipython",
    "version": 3
   },
   "file_extension": ".py",
   "mimetype": "text/x-python",
   "name": "python",
   "nbconvert_exporter": "python",
   "pygments_lexer": "ipython3",
   "version": "3.7.4"
  }
 },
 "nbformat": 4,
 "nbformat_minor": 2
}
