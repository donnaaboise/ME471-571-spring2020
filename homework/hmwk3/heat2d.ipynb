{
 "cells": [
  {
   "cell_type": "markdown",
   "metadata": {},
   "source": [
    "<hr style=\"border-width:4px;border-color:coral\" />\n",
    "\n",
    "# Solving the 2d heat equation\n",
    "\n",
    "<hr style=\"border-width:4px;border-color:coral\" />\n",
    "\n",
    "This notebook gives you an introduction to solving the 2d heat equation using the finite difference approach.  \n",
    "\n",
    "* <a href=\"#heat2d\">Heat equation in two dimensions</a>\n",
    "\n",
    "* <a href=\"#heatcode\">Pseudo-code for the 2d heat equation</a>\n",
    "\n",
    "* <a href=\"#plotting\">Plot the initial conditions</a>\n",
    "\n",
    "* <a href=\"#timesteps\">Plot the time steps</a>\n",
    "\n",
    "This note book also provides a template for how to plot data from your heat equation. This code will work for either serial or parallel output."
   ]
  },
  {
   "cell_type": "markdown",
   "metadata": {},
   "source": [
    "<a id=\"heat2d\"></a>\n",
    "\n",
    "<hr style=\"border-width:4px; border-color:coral\"></hr>\n",
    "\n",
    "The non-dimensional heat equation in two dimensions is given by \n",
    "\n",
    "\\begin{equation*}\n",
    "q_t = \\nabla^2 q\n",
    "\\end{equation*}\n",
    "\n",
    "where now $q(x,y,t)$ is a function of two spatial variables $\\mathbf x = (x,y)$ and $\\nabla^2 q$ is the 2d Laplacian given by \n",
    "\n",
    "\\begin{equation*}\n",
    "\\nabla^2 q \\equiv q_{xx} + q_{yy}\n",
    "\\end{equation*}\n",
    "\n",
    "In analogy with the 1d example shown above, we solve this problem in the domain $[0,1]\\times [0,1]$ over a time interval $[0,T]$.  As in the 1d case, we will apply no-flux boundary conditions on each edge of our unit square domain. \n",
    "\n",
    "\\begin{equation*}\n",
    "q_x(0,y,t) = q_x(1,y,t) = q_y(x,0,t) = q_y(x,1,t) = 0\n",
    "\\end{equation*}\n",
    "\n",
    "The Method-of-Lines approach described above extends to 2d in a very natural way.  The discrete mesh is now a two-dimensional mesh in points $\\mathbf x_{ij} \\equiv (x_i,y_j)$ on the domain $[0,1] \\times [0,1]$ using $N_x$ mesh cells in the x-direction and $N_y$ mesh cells in the y direction.  For a square domain, it makes sense to choose $N_x = N_y$, although in what follows we do not make this assumption.\n",
    "\n",
    "The general mesh consisting of points $(x_i,y_j)$ is given by \n",
    "\n",
    "\\begin{equation*}\n",
    "\\begin{aligned}\n",
    "x_i & = i\\Delta x, \\qquad i = 0,1,2, ..., N_x \\\\\n",
    "y_j & = j\\Delta y, \\qquad j = 0,1,2, ..., N_y\n",
    "\\end{aligned}\n",
    "\\end{equation*}\n",
    "\n",
    "where $\\Delta x = 1/N_x$ and $\\Delta y = 1/N_y$. \n",
    "\n",
    "Our semi-discrete system in 2d in terms of functions $Q_{ij}(t) \\approx q(x_i,y_j,t)$ is given by\n",
    "\n",
    "\\begin{equation}\n",
    "Q_{ij}'(t) =  \\frac{Q_{i-1,j}(t) - 2 Q_{ij}(t) + Q_{i+1,j}(t)}{(\\Delta x)^2} + \n",
    "\\frac{Q_{i,j-1}(t) - 2 Q_{ij}(t) + Q_{i,j+1}(t)}{(\\Delta y)^2}\n",
    "\\end{equation}\n",
    "\n",
    "A critical difference between 1d and 2d is that in 2d, our time step restriction is given by\n",
    "\n",
    "\\begin{equation*}\n",
    "(\\Delta t)_{stable} < \\frac{\\min[(\\Delta x)^2,(\\Delta y)^2]}{4}\n",
    "\\end{equation*}\n",
    "\n",
    "Notice the factor of 4 rather than 2.   "
   ]
  },
  {
   "cell_type": "markdown",
   "metadata": {},
   "source": [
    "<a id=\"heatcode\"></a>\n",
    "\n",
    "<hr style=\"border-width:4px\"></hr>\n",
    "\n",
    "## Pseudo-code for solving the 2d heat equation using Forward Euler \n",
    "\n",
    "Below is a pseudo-code for a basic time stepping scheme for the 2d heat equation on the domain $[0,1] \\times [0,1]$ over the time span $t \\in [0,T]$.  \n",
    "\n",
    "    dx = 1/Nx;\n",
    "    dy = 1/Ny;\n",
    "    dx2 = dx*dx;\n",
    "    dy2 = dy*dy;\n",
    "\n",
    "    dsmin = (dx < dy) ? dx : dy;\n",
    "    dt_stable = 0.9*dsmin^2/4;\n",
    "    M = ceil(T/dt_stable) + 1;\n",
    "    dt = T/M;\n",
    "\n",
    "    /* Initialize q */\n",
    "    for(i = -1; i <= Nx+1; i++)\n",
    "    {\n",
    "        for(j = -1; j <= Ny+1; j++)\n",
    "        {\n",
    "            x = i*dx;\n",
    "            y = j*dy;\n",
    "            qn[i][j] = init(x,y);\n",
    "        }\n",
    "    }\n",
    "\n",
    "    /* Time step to get the solution in time */\n",
    "    for(n = 0; n <= M; n++)\n",
    "    {\n",
    "        /* Apply no-flux boundary conditions */\n",
    "        for(j = 0; j <= Ny; j++)\n",
    "        {        \n",
    "            qn[-1][j] = qn[1][j]\n",
    "            qn[Nx+1][j] = qn[Nx-1][j]\n",
    "        }\n",
    "        for(i = 0; i <= Nx; i++)\n",
    "        {        \n",
    "            qn[i][-1] = qn[i][1]\n",
    "            qn[i][Ny+1] = qn[i][Ny-1]\n",
    "        }\n",
    "\n",
    "        /* Update each qn[i][j] */\n",
    "        for(i = 0; i <= Nx; i++)\n",
    "        {\n",
    "            for(j = 0; j <= Ny; j++)\n",
    "            {\n",
    "                qxx = (qn[i-1][j] - 2*qn[i][j] + qn[i+1][j])/dx2;\n",
    "                qyy = (qn[i][j-1] - 2*qn[i][j] + qn[i][j+1])/dy2;\n",
    "                qnp1[i][j] = qn[i][j] + dt*(qxx + qyy);\n",
    "            }\n",
    "        }\n",
    "        \n",
    "        /* Store time step every M/nout time steps .... */\n",
    "        \n",
    "        qn = qpn1;     \n",
    "    }"
   ]
  },
  {
   "cell_type": "markdown",
   "metadata": {},
   "source": [
    "<hr style=\"border-width:2px, border-style:solid\">\n",
    "\n",
    "If you would like more details on the above, see \n",
    "\n",
    "[Finite Difference Methods for Ordinary and Partial Differential Equations: Steady-State and Time-Dependent Problems](https://epubs.siam.org/doi/book/10.1137/1.9780898717839).  \n",
    "\n",
    "Using this link,  you will be able to download the book for free through the BSU libraries.   "
   ]
  },
  {
   "cell_type": "code",
   "execution_count": 1,
   "metadata": {},
   "outputs": [
    {
     "name": "stdout",
     "output_type": "stream",
     "text": [
      "Using matplotlib backend: nbAgg\n",
      "Populating the interactive namespace from numpy and matplotlib\n"
     ]
    }
   ],
   "source": [
    "%matplotlib notebook\n",
    "%pylab"
   ]
  },
  {
   "cell_type": "markdown",
   "metadata": {},
   "source": [
    "## Running your heat example\n",
    "\n",
    "The code below is designed to take three arguments : the number of mesh cells in x and by directions, and the number of output files to produce.  For example\n",
    "\n",
    "    $ heat2d 64 64 40\n",
    "    \n",
    "will run on a mesh with $N_x=N_y=64$ mesh cells in each direction and will create 40 output files at times $t_0=0, t_1, t_2, ..., t_{39}=T$. "
   ]
  },
  {
   "cell_type": "code",
   "execution_count": 2,
   "metadata": {},
   "outputs": [],
   "source": [
    "%%bash\n",
    "\n",
    "rm -rf heat2d\n",
    "\n",
    "gcc -o heat2d -O2 heat2d_serial.c\n",
    "\n",
    "heat2d 256 256 40"
   ]
  },
  {
   "cell_type": "markdown",
   "metadata": {},
   "source": [
    "## Read meta data\n",
    "\n",
    "Meta data is stored by the executable and read in here.  It is a good idea to check that everything that was read in is correct and agrees with what you expect.  "
   ]
  },
  {
   "cell_type": "code",
   "execution_count": null,
   "metadata": {},
   "outputs": [],
   "source": [
    "# Open file for reading; use binary mode\n",
    "fout = open(\"heat2d.out\",\"rb\")\n",
    "\n",
    "# Read meta data\n",
    "dt_meta = dtype([('Nx','int32'),('Ny','int32'),('ax','d'),('bx','d'), \\\n",
    "                 ('ay','d'),('by','d'),('M','int32')])\n",
    "d = fromfile(fout,dtype=dt_meta, count=1)[0]\n",
    "\n",
    "# create dictionary containing meta data\n",
    "parms = dict(zip(dt_meta.fields,d))\n",
    "\n",
    "# Print meta data from dictionary\n",
    "print(\"Mesh cell dimensions : ({Nx:2d},{Ny:2d})\".format(**parms))\n",
    "print(\"\")\n",
    "print(\"Domain : [{ax:g},{bx:g}] x [{ay:g},{by:g}]\".format(**parms))\n",
    "print(\"\")\n",
    "print(\"Total number of time steps : {M:d}\".format(**parms))\n",
    "print(\"\")\n",
    "\n",
    "# Assign values in tuple directly (for use below)\n",
    "Nx,Ny,ax,bx,ay,by,M = d\n",
    "\n",
    "# Read solution data and count number of output steps.  This should match number\n",
    "# set by the user in call to `heat2d`\n",
    "dt_heat = dtype([('t','d'),('q','d',(Nx+1)*(Ny+1))])  \n",
    "data = fromfile(fout,dtype=dt_heat)\n",
    "Mout = len(data) # Number of time steps output.\n",
    "print(\"Number of output steps : {:d}\".format(Mout))\n",
    "\n",
    "# Close file\n",
    "fout.close()"
   ]
  },
  {
   "cell_type": "markdown",
   "metadata": {},
   "source": [
    "## Create the 2d mesh\n",
    "\n",
    "We create a 2d mesh needed for plotting. "
   ]
  },
  {
   "cell_type": "code",
   "execution_count": null,
   "metadata": {},
   "outputs": [],
   "source": [
    "xe = linspace(ax,bx,Nx+1)\n",
    "ye = linspace(ay,by,Ny+1)\n",
    "\n",
    "dx = (bx-ax)/Nx\n",
    "dy = (by-ay)/Ny\n",
    "\n",
    "[xm,ym] = meshgrid(xe,ye)"
   ]
  },
  {
   "cell_type": "markdown",
   "metadata": {},
   "source": [
    "<a id=\"plotting\"></a>\n",
    "\n",
    "<hr style=\"border-width:4px; border-color:coral\"></hr>\n",
    "\n",
    "## Plot the initial conditions\n",
    "\n",
    "<hr style=\"border-width:4px; border-color:coral\"></hr>"
   ]
  },
  {
   "cell_type": "code",
   "execution_count": null,
   "metadata": {},
   "outputs": [],
   "source": [
    "# Plot initial conditions\n",
    "figure(1)\n",
    "clf()\n",
    "\n",
    "set_cmap('jet')\n",
    "\n",
    "q = reshape(data[0][1],(Nx+1,Ny+1))\n",
    "mesh = pcolormesh(xm,ym,q,vmin=-0.1,vmax=1)\n",
    "\n",
    "cv = linspace(0,1,21)\n",
    "cv = cv[1:]   # avoid 0 contours\n",
    "cont = contour(xm,ym,q,colors='k',levels=cv,linewidths=0.5)\n",
    "\n",
    "gca().set_aspect(1)\n",
    "\n",
    "title('Time {:0.4f}'.format(0),fontsize=16)\n",
    "xlabel('x',fontsize=16)\n",
    "ylabel('y', fontsize=16)\n",
    "\n",
    "colorbar(mesh)\n",
    "\n",
    "show()"
   ]
  },
  {
   "cell_type": "code",
   "execution_count": null,
   "metadata": {},
   "outputs": [],
   "source": [
    "figure(1)\n",
    "#savefig('heat_0.png', dpi=Nx, facecolor=None, edgecolor=None,\n",
    "#        format='png',transparent=False, bbox_inches='tight', pad_inches=0.1,metadata=None)"
   ]
  },
  {
   "cell_type": "markdown",
   "metadata": {},
   "source": [
    "<a id=\"timesteps\"></a>\n",
    "\n",
    "<hr style=\"border-width:4px; border-color:coral\"></hr>\n",
    "\n",
    "## Plot the solution in time\n",
    "\n",
    "<hr style=\"border-width:4px; border-color:coral\"></hr>"
   ]
  },
  {
   "cell_type": "code",
   "execution_count": null,
   "metadata": {},
   "outputs": [],
   "source": [
    "# Plot initial solution and store handle\n",
    "fig = figure(2)\n",
    "clf()\n",
    "\n",
    "q = reshape(data[0][1],(Nx+1,Ny+1))\n",
    "mesh = pcolormesh(xm,ym,q,shading='flat',vmin=-0.1,vmax=0.5)\n",
    "    \n",
    "# Set up contour lines\n",
    "cv = linspace(0,0.5,31)\n",
    "cv = cv[1:]   # avoid 0 contours\n",
    "cont = contour(xm,ym,q,colors='k',levels=cv,linewidths=0.5)\n",
    "\n",
    "# Add title, axis labels, etc\n",
    "htitle = title('Time : {:.4f}'.format(0),fontsize=16)\n",
    "xlabel('x',fontsize=16)\n",
    "ylabel('y', fontsize=16) \n",
    "\n",
    "colorbar(mesh)\n",
    "\n",
    "# Make axis square\n",
    "gca().set_aspect(1)\n",
    "\n",
    "# Refresh plot\n",
    "fig.canvas.draw()     \n",
    "\n",
    "pause(0.25)\n",
    "\n",
    "for n in range(0,Mout):\n",
    "\n",
    "    t = data[n][0]\n",
    "    \n",
    "    q = reshape(data[n][1],(Nx+1,Ny+1))\n",
    "    #q = data[n][1]\n",
    "    mesh.set_array(q[:-1,:-1].ravel())\n",
    "\n",
    "    # Plot contour lines\n",
    "    for c in cont.collections:\n",
    "        c.remove()\n",
    "    cont = contour(xm,ym,q,colors='k',levels=cv,linewidths=0.5)\n",
    "\n",
    "    # Update title with new time\n",
    "    htitle.set_text('Time : {:.4f}'.format(t))\n",
    "\n",
    "    # Make axis square\n",
    "    gca().set_aspect(1)\n",
    "\n",
    "    # Refresh plot\n",
    "    fig.canvas.draw()        \n",
    "    \n",
    "    pause(0.1)\n",
    "    \n",
    "print(\"qmax = {:16.8e}\".format(q.max()))\n",
    "print(\"qmin = {:16.8e}\".format(q.min()))"
   ]
  },
  {
   "cell_type": "code",
   "execution_count": null,
   "metadata": {},
   "outputs": [],
   "source": [
    "figure(2)\n",
    "#savefig('heat_1.png', dpi=Nx, facecolor=None, edgecolor=None,\n",
    "#        format='png',transparent=False, bbox_inches='tight', pad_inches=0.1,metadata=None)"
   ]
  },
  {
   "cell_type": "code",
   "execution_count": null,
   "metadata": {},
   "outputs": [],
   "source": []
  }
 ],
 "metadata": {
  "kernelspec": {
   "display_name": "Python 3",
   "language": "python",
   "name": "python3"
  },
  "language_info": {
   "codemirror_mode": {
    "name": "ipython",
    "version": 3
   },
   "file_extension": ".py",
   "mimetype": "text/x-python",
   "name": "python",
   "nbconvert_exporter": "python",
   "pygments_lexer": "ipython3",
   "version": "3.7.4"
  }
 },
 "nbformat": 4,
 "nbformat_minor": 2
}
