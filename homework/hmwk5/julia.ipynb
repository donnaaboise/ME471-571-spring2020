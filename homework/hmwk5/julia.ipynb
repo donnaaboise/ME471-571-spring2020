{
 "cells": [
  {
   "cell_type": "markdown",
   "metadata": {},
   "source": [
    "<hr style=\"border-width:4px; border-color:coral\"/>\n",
    "\n",
    "# Creating fractals\n",
    "<hr style=\"border-width:4px; border-color:coral\"/>\n",
    "\n",
    "Fractals are fascinating images that can be computed using a very simple fixed-point type iteration.  And because the iterations run independently, algorithms for fractal generation parallelize very naturally.  The code below illustrate the Julia fractal.  You can read more about Julia fractals on this <a href=\"https://en.wikipedia.org/wiki/Julia_set\">Wikipedia page</a>.\n",
    "\n",
    "Your assignment is to write an MPI/CUDA code to generate the fractal, and write out the solution and plot it in a notebook.  Ultimately, you can create image files for a continuum of Julia sets, and plot the animation of the sets in teh notebook as well.  "
   ]
  },
  {
   "cell_type": "code",
   "execution_count": null,
   "metadata": {},
   "outputs": [],
   "source": [
    "%matplotlib notebook\n",
    "%pylab\n",
    "\n",
    "from matplotlib import colors\n",
    "import warnings"
   ]
  },
  {
   "cell_type": "markdown",
   "metadata": {},
   "source": [
    "The basic algorithm for computing Julia fractals is an iterative scheme, based on the following idea. \n",
    "\n",
    "Given a number $z_0 = x  + iy$ in the complex plane, generate iterates\n",
    "\n",
    "\\begin{equation*}\n",
    "z_{k+1} = g(z_k)\n",
    "\\end{equation*}\n",
    "\n",
    "where $g(z)$ is a prescribed function.  For example, the Julia fractal below uses $g(z) = z^2 + c$ where $c$ is a complex number.   \n",
    "\n",
    "We generate these iterates for every point $z_0$ in a region $D$ in the complex plane \n",
    "(e.g. $z \\in D = [-2,2]x[-2,2]$).  Then, we color each point in the region $D$ based on how quickly the sequence $\\{z_{k}\\}$ diverges.  To determine divergence, we measure $|z_k| = \\sqrt{x^2 + y^2}$.  The sequence $z_k$ is said to have an \"escape time\" $K(z)$ if $|z_k| > \\rho$, for all $k > K(z)$, for some $\\rho \\in R$ (fixed for all $z$ in $D$). If, after some predetermined $K_{max}$, we have $|z_k| < \\rho, k \\ge K_{max}$, we assign the escape time as $K(z_k) = \\infty$.  For these values, the sequence $z_k$ does not diverge.  \n",
    "\n",
    "Once every point $z \\in D$ has an escape time $K(z)$, we can then color the domain by assigning colors to each integer value $K(z)$.  "
   ]
  },
  {
   "cell_type": "code",
   "execution_count": null,
   "metadata": {},
   "outputs": [],
   "source": [
    "def julia_set(xmin, xmax, ymin, ymax, nx, ny, maxiter,c):\n",
    "    \n",
    "    # Generate points in complex planes D\n",
    "    Xe = linspace(xmin, xmax, nx+1).astype(float32)\n",
    "    Ye = linspace(ymin, ymax, ny+1).astype(float32)\n",
    "    Xc = Xe[:-1] + (xmax-xmin)/(2*nx)            \n",
    "    Yc = Ye[:-1] + (ymax-ymin)/(2*ny)            \n",
    "\n",
    "    # Set of initial values Z0\n",
    "    Zc = Xc + Yc[:, None] * 1j\n",
    "    \n",
    "    # Constant needed for Julia fractal : g(z) = z^2 + c\n",
    "    C = zeros_like(Zc) + c\n",
    "    \n",
    "    rho = 2.0\n",
    "    \n",
    "    # Vectorize the computation of g(z); Use \n",
    "    escape_time = zeros_like(Zc,dtype=int)\n",
    "    for n in range(maxiter):\n",
    "        I = logical_and(greater(abs(Zc), rho),equal(escape_time,0))\n",
    "        escape_time[I] = n\n",
    "        notI = not_equal(I,True)\n",
    "        Zc[notI] = Zc[notI]**2 + C[notI]\n",
    "    escape_time[escape_time == 0] = 0   # These sequences didn't diverge;  use 0 here instead of infinity. \n",
    "    return Zc, escape_time"
   ]
  },
  {
   "cell_type": "code",
   "execution_count": null,
   "metadata": {},
   "outputs": [],
   "source": [
    "%%time\n",
    "\n",
    "DIM = 2048\n",
    "\n",
    "# Zoomed fractal\n",
    "d = 0.01\n",
    "xc = 1.15657568\n",
    "yc = -0.1002331\n",
    "\n",
    "# Full fractal\n",
    "d = 4\n",
    "xc = 0\n",
    "yc = 0\n",
    "\n",
    "xmin,xmax = xc - d/2, xc + d/2\n",
    "ymin,ymax = yc - d/2, yc + d/2\n",
    "maxiter = 400\n",
    "\n",
    "c = -0.4 + 0.6*1j\n",
    "# c = -0.7269 + 0.1889*1j\n",
    "c = -0.8+0.156*1j\n",
    "\n",
    "warnings.simplefilter(\"ignore\")   # Suppress run time warnings\n",
    "Z, M = julia_set(xmin, xmax, ymin, ymax, DIM,DIM, maxiter,c)"
   ]
  },
  {
   "cell_type": "code",
   "execution_count": null,
   "metadata": {
    "scrolled": false
   },
   "outputs": [],
   "source": [
    "%%time\n",
    "\n",
    "dpi = 256    # Figure might not show up in the notebook if dpi is too high;  but PNG file will be created (below).\n",
    "width = DIM/dpi     # Final figure size (in pixels) :  dpi*[width,height]\n",
    "height = DIM/dpi\n",
    "fig = figure(figsize=(width, height), dpi=dpi)\n",
    "ax = fig.add_axes([0.0, 0.0, 1.0, 1.0], frameon=False, aspect=1)\n",
    "\n",
    "# Shaded rendering\n",
    "light = colors.LightSource(azdeg=315, altdeg=10)\n",
    "M_plot = light.shade(M, cmap=plt.cm.plasma, vert_exag=1.5,\n",
    "                norm=colors.PowerNorm(0.3), blend_mode='hsv')\n",
    "imshow(M_plot, extent=[xmin, xmax, ymin, ymax],interpolation='bicubic',origin='lower')\n",
    "\n",
    "savefig(\"fractal.png\")\n",
    "show()"
   ]
  },
  {
   "cell_type": "code",
   "execution_count": null,
   "metadata": {},
   "outputs": [],
   "source": []
  }
 ],
 "metadata": {
  "kernelspec": {
   "display_name": "Python 3",
   "language": "python",
   "name": "python3"
  },
  "language_info": {
   "codemirror_mode": {
    "name": "ipython",
    "version": 3
   },
   "file_extension": ".py",
   "mimetype": "text/x-python",
   "name": "python",
   "nbconvert_exporter": "python",
   "pygments_lexer": "ipython3",
   "version": "3.7.4"
  }
 },
 "nbformat": 4,
 "nbformat_minor": 2
}
