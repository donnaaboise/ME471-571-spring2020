{
 "cells": [
  {
   "cell_type": "markdown",
   "metadata": {},
   "source": [
    "<hr style=\"border-width:4px; border-color:coral\"/>\n",
    "\n",
    "# Creating fractals\n",
    "<hr style=\"border-width:4px; border-color:coral\"/>\n",
    "\n",
    "Fractals are fascinating images that can be computed using a very simple fixed-point type iteration.  And because the iterations run independently, algorithms for fractal generation parallelize very naturally.  The code below illustrate the Julia fractal.  You can read more about Julia fractals on this <a href=\"https://en.wikipedia.org/wiki/Julia_set\">Wikipedia page</a>.\n",
    "\n",
    "Your assignment is to write an MPI/CUDA code to generate the fractal, and write out the solution and plot it in a notebook.  Ultimately, you can create image files for a continuum of Julia sets, and plot the animation of the sets in teh notebook as well.  "
   ]
  },
  {
   "cell_type": "code",
   "execution_count": null,
   "metadata": {},
   "outputs": [],
   "source": [
    "%matplotlib notebook\n",
    "%pylab\n",
    "\n",
    "from matplotlib import colors\n",
    "import warnings"
   ]
  },
  {
   "cell_type": "markdown",
   "metadata": {},
   "source": [
    "The basic algorithm for computing Julia fractals is an iterative scheme, based on the following idea. \n",
    "\n",
    "Given a number $z_0 = x  + iy$ in the complex plane, generate iterates\n",
    "\n",
    "\\begin{equation*}\n",
    "z_{k+1} = g(z_k)\n",
    "\\end{equation*}\n",
    "\n",
    "where $g(z)$ is a prescribed function.  For example, the Julia fractal below uses $g(z) = z^2 + c$ where $c$ is a complex number.   \n",
    "\n",
    "We generate these iterates for every point $z_0$ in a region $D$ in the complex plane \n",
    "(e.g. $z \\in D = [-2,2]x[-2,2]$).  Then, we color each point in the region $D$ based on how quickly the sequence $\\{z_{k}\\}$ diverges.  To determine divergence, we measure $|z_k| = \\sqrt{x^2 + y^2}$.  The sequence $z_k$ is said to have an \"escape time\" $K(z)$ if $|z_k| > \\rho$, for all $k > K(z)$, for some $\\rho \\in R$ (fixed for all $z$ in $D$). If, after some predetermined $K_{max}$, we have $|z_k| < \\rho, k \\ge K_{max}$, we assign the escape time as $K(z_k) = \\infty$.  For these values, the sequence $z_k$ does not diverge.  \n",
    "\n",
    "Once every point $z \\in D$ has an escape time $K(z)$, we can then color the domain by assigning colors to each integer value $K(z)$.  "
   ]
  },
  {
   "cell_type": "code",
   "execution_count": null,
   "metadata": {},
   "outputs": [],
   "source": [
    "def julia_set(ax,bx,ay,by, Nx, Ny, kmax,c):\n",
    "    \n",
    "    # Generate points in complex planes D\n",
    "    xe = linspace(ax,bx, Nx+1).astype(float32)\n",
    "    ye = linspace(ay,by, Ny+1).astype(float32)\n",
    "    dx = (bx-ax)/N\n",
    "    dy = (by-ay)/N\n",
    "    xc = xe[:-1] + dx/2            \n",
    "    yc = ye[:-1] + dy/2            \n",
    "\n",
    "    # Set of initial values Z0\n",
    "    zk = xc + yc[:, None] * 1j\n",
    "    \n",
    "    # Constant needed for Julia fractal : g(z) = z^2 + c\n",
    "    C = zeros_like(zk) + c\n",
    "    \n",
    "    rho = 2.0\n",
    "    \n",
    "    # Vectorize the computation of g(z); Use \n",
    "    escape_time = zeros_like(zk,dtype=int)\n",
    "    for n in range(kmax):\n",
    "        I = logical_and(greater(abs(zk), rho),equal(escape_time,0))\n",
    "        escape_time[I] = n\n",
    "        notI = not_equal(I,True)\n",
    "        zk[notI] = zk[notI]**2 + C[notI]\n",
    "    escape_time[escape_time == 0] = 0   # These sequences didn't diverge;  use 0 here instead of infinity. \n",
    "    return zk, escape_time"
   ]
  },
  {
   "cell_type": "code",
   "execution_count": null,
   "metadata": {},
   "outputs": [],
   "source": [
    "%%time\n",
    "\n",
    "N = 1024\n",
    "kmax = 400\n",
    "\n",
    "# Domain D is centered at (xc,yc) and has width 'domain_width'\n",
    "\n",
    "# Zoomed fractal\n",
    "domain_width = 0.01\n",
    "xc = 1.15657568\n",
    "yc = -0.1002331\n",
    "\n",
    "# Full fractal\n",
    "domain_width = 4\n",
    "xc = 0\n",
    "yc = 0\n",
    "\n",
    "# dimensions of D\n",
    "ax, bx = xc - domain_width/2, xc + domain_width/2\n",
    "ay, by = yc - domain_width/2, yc + domain_width/2\n",
    "\n",
    "c = -0.8+0.156*1j\n",
    "\n",
    "warnings.simplefilter(\"ignore\")   # Suppress overflow run time warnings\n",
    "Z, M = julia_set(ax, bx, ay, by, N, N, kmax,c)"
   ]
  },
  {
   "cell_type": "markdown",
   "metadata": {},
   "source": [
    "## Plot results"
   ]
  },
  {
   "cell_type": "code",
   "execution_count": null,
   "metadata": {
    "scrolled": false
   },
   "outputs": [],
   "source": [
    "%%time\n",
    "\n",
    "dpi = 256         # Figure might not show up in the notebook if dpi is too high;  but PNG file will be created (below).\n",
    "width = N/dpi     # Final figure size (in pixels) :  dpi*[width,height]\n",
    "height = N/dpi\n",
    "fig = figure(figsize=(width, height), dpi=dpi)\n",
    "fig.add_axes([0.0, 0.0, 1.0, 1.0], frameon=False, aspect=1)\n",
    "\n",
    "# Shaded rendering\n",
    "light = colors.LightSource(azdeg=315, altdeg=10)\n",
    "M_plot = light.shade(M, cmap=plt.cm.plasma, vert_exag=1.5,\n",
    "                norm=colors.PowerNorm(0.3), blend_mode='hsv')\n",
    "imshow(M_plot, extent=[ax,bx,ay,by],interpolation='bicubic',origin='lower')\n",
    "\n",
    "savefig(\"fractal.png\")\n",
    "show()"
   ]
  },
  {
   "cell_type": "code",
   "execution_count": null,
   "metadata": {},
   "outputs": [],
   "source": []
  }
 ],
 "metadata": {
  "kernelspec": {
   "display_name": "Python 3",
   "language": "python",
   "name": "python3"
  },
  "language_info": {
   "codemirror_mode": {
    "name": "ipython",
    "version": 3
   },
   "file_extension": ".py",
   "mimetype": "text/x-python",
   "name": "python",
   "nbconvert_exporter": "python",
   "pygments_lexer": "ipython3",
   "version": "3.7.4"
  }
 },
 "nbformat": 4,
 "nbformat_minor": 2
}
