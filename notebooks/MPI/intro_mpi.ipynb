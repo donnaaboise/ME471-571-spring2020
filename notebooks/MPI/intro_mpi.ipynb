{
 "cells": [
  {
   "cell_type": "markdown",
   "metadata": {},
   "source": [
    "<hr style=\"border-width:4px; border-style:solid; border-color:coral\"></hr>\n",
    "\n",
    "# Introduction to MPI\n",
    "\n",
    "<hr style=\"border-width:4px; border-style:solid; border-color:coral\"></hr>\n",
    "\n",
    "* [Demo 0](#demo0) (Almost) the simplest MPI example.\n",
    "\n",
    "* [Demo 1](#demo1) Pass a string message between processors. \n",
    "\n",
    "* [Demo 2](#demo2) Pass a scalar data between processors \n",
    "\n",
    "* [Demo 3](#demo3) Pass an array between processors "
   ]
  },
  {
   "cell_type": "code",
   "execution_count": 1,
   "metadata": {},
   "outputs": [
    {
     "name": "stdout",
     "output_type": "stream",
     "text": [
      "Using matplotlib backend: nbAgg\n",
      "Populating the interactive namespace from numpy and matplotlib\n"
     ]
    }
   ],
   "source": [
    "%matplotlib notebook\n",
    "%pylab"
   ]
  },
  {
   "cell_type": "markdown",
   "metadata": {},
   "source": [
    "<a id=\"demo0\"></a>\n",
    "\n",
    "<hr style=\"border-width:4px; border-style:solid\"></hr>\n",
    "\n",
    "## Demo 0 - (Almost) the simplest MPI code\n",
    "<hr style=\"border-width:4px; border-style:solid\"></hr>\n",
    "\n",
    "This example illustrates how to initialize and finalize the MPI library.  In this example, we also print out the rank of each processor. \n",
    "\n",
    "The basic requirement to use MPI are to include the `mpi.h` header file.  Then to compile, we have to use the `mpicc` rather than `gcc`.  "
   ]
  },
  {
   "cell_type": "code",
   "execution_count": 2,
   "metadata": {},
   "outputs": [
    {
     "name": "stdout",
     "output_type": "stream",
     "text": [
      "Writing demo_00.c\n"
     ]
    }
   ],
   "source": [
    "%%file demo_00.c\n",
    "\n",
    "#include <mpi.h>\n",
    "#include <stdio.h>\n",
    "\n",
    "void main(int argc, char** argv)\n",
    "{\n",
    "    MPI_Init(&argc, &argv);\n",
    "    \n",
    "    int my_rank;\n",
    "    MPI_Comm_rank(MPI_COMM_WORLD, &my_rank);\n",
    "\n",
    "    printf(\"Rank %d\\n\",my_rank);\n",
    "\n",
    "    MPI_Finalize();\n",
    "}"
   ]
  },
  {
   "cell_type": "code",
   "execution_count": 3,
   "metadata": {},
   "outputs": [
    {
     "name": "stdout",
     "output_type": "stream",
     "text": [
      "Rank 0\n",
      "Rank 1\n",
      "Rank 3\n",
      "Rank 2\n"
     ]
    }
   ],
   "source": [
    "%%bash\n",
    "\n",
    "rm -rf demo_00\n",
    "\n",
    "mpicc -o demo_00 demo_00.c\n",
    "\n",
    "mpirun -n 4 demo_00"
   ]
  },
  {
   "cell_type": "markdown",
   "metadata": {},
   "source": [
    "<a id=\"demo1\"></a>\n",
    "\n",
    "<hr style=\"border-width:4px; border-style:solid\"></hr>\n",
    "\n",
    "## Demo 1 - Pass a message between processors\n",
    "\n",
    "<hr style=\"border-width:4px; border-style:solid\"></hr>\n",
    "\n",
    "In this example, we pass a simple string message from processor 0  to other ranks. "
   ]
  },
  {
   "cell_type": "code",
   "execution_count": 14,
   "metadata": {},
   "outputs": [
    {
     "name": "stdout",
     "output_type": "stream",
     "text": [
      "Overwriting demo_01.c\n"
     ]
    }
   ],
   "source": [
    "%%file demo_01.c\n",
    "\n",
    "#include <stdio.h>\n",
    "#include <string.h>\n",
    "#include <mpi.h>\n",
    "\n",
    "void main(int argc, char** argv)\n",
    "{\n",
    "    MPI_Init(&argc, &argv);\n",
    "\n",
    "    int my_rank, nprocs;\n",
    "    MPI_Comm_rank(MPI_COMM_WORLD, &my_rank);\n",
    "    MPI_Comm_size(MPI_COMM_WORLD, &nprocs);\n",
    "\n",
    "    int tag = 0;\n",
    "    if (my_rank == 0)\n",
    "    {\n",
    "        for(int p = 1; p < nprocs; p++)\n",
    "        {\n",
    "            int dest = p;\n",
    "            char message[100];\n",
    "            sprintf(message,\"Hello processor %d from processor 0!\",p);\n",
    "            MPI_Send(message,strlen(message)+1,MPI_CHAR,dest,tag,MPI_COMM_WORLD);\n",
    "        }\n",
    "    }\n",
    "    else\n",
    "    {\n",
    "        int sender = 0;\n",
    "        int count;\n",
    "        char message[100];\n",
    "        MPI_Recv(message,100,MPI_CHAR,sender,tag,MPI_COMM_WORLD,MPI_STATUS_IGNORE);\n",
    "        printf(\"Rank %d received message : \\\"%s\\\"\\n\",my_rank,message);\n",
    "    }\n",
    "    \n",
    "    MPI_Finalize();\n",
    "}"
   ]
  },
  {
   "cell_type": "code",
   "execution_count": 13,
   "metadata": {},
   "outputs": [
    {
     "name": "stdout",
     "output_type": "stream",
     "text": [
      "Rank 1 received message : \"Hello processor 1 from processor 0!\"\n",
      "Rank 3 received message : \"Hello processor 3 from processor 0!\"\n",
      "Rank 4 received message : \"Hello processor 4 from processor 0!\"\n",
      "Rank 5 received message : \"Hello processor 5 from processor 0!\"\n",
      "Rank 6 received message : \"Hello processor 6 from processor 0!\"\n",
      "Rank 7 received message : \"Hello processor 7 from processor 0!\"\n",
      "Rank 2 received message : \"Hello processor 2 from processor 0!\"\n"
     ]
    }
   ],
   "source": [
    "%%bash\n",
    "\n",
    "rm -rf demo_01\n",
    "\n",
    "mpicc -o demo_01 demo_01.c\n",
    "\n",
    "mpirun -n 8 demo_01"
   ]
  },
  {
   "cell_type": "markdown",
   "metadata": {},
   "source": [
    "<a id=\"demo2\"></a>\n",
    "\n",
    "<hr style=\"border-width:4px; border-style:solid\"></hr>\n",
    "\n",
    "## Demo 2 - Pass scalar data between processors\n",
    "\n",
    "<hr style=\"border-width:4px; border-style:solid\"></hr>\n",
    "\n",
    "In this example, we pass a scalar value `data` from processor 0 to each of the other ranks.  Rank 0 sends each rank an integer equal to its rank.  "
   ]
  },
  {
   "cell_type": "code",
   "execution_count": 7,
   "metadata": {},
   "outputs": [
    {
     "name": "stdout",
     "output_type": "stream",
     "text": [
      "Writing demo_02.c\n"
     ]
    }
   ],
   "source": [
    "%%file demo_02.c\n",
    "\n",
    "#include <mpi.h>\n",
    "#include <stdio.h>    /* For IO */\n",
    "\n",
    "void main(int argc, char** argv)\n",
    "{\n",
    "    MPI_Init(&argc, &argv);\n",
    "\n",
    "    int rank, nprocs;\n",
    "    MPI_Comm_rank(MPI_COMM_WORLD, &rank);\n",
    "    MPI_Comm_size(MPI_COMM_WORLD, &nprocs);\n",
    "\n",
    "    /* Hardwire length of array */\n",
    "    int tag = 0;\n",
    "    int data;\n",
    "    if (rank == 0)\n",
    "    {\n",
    "        /* Allocate and initialize a big array for all data */\n",
    "        for(int p = 1; p < nprocs; p++)\n",
    "        {\n",
    "            int dest = p;\n",
    "            int data = p;\n",
    "            MPI_Send(&data,1,MPI_DOUBLE,dest,tag,MPI_COMM_WORLD);\n",
    "        }\n",
    "    }\n",
    "    else\n",
    "    {\n",
    "        int source = 0;        \n",
    "        MPI_Recv(&data,1,MPI_DOUBLE,source,tag,MPI_COMM_WORLD,MPI_STATUS_IGNORE);\n",
    "    }\n",
    "    printf(\"Rank %d : (%d)\\n\",rank,data);\n",
    "        \n",
    "    MPI_Finalize();\n",
    "}\n"
   ]
  },
  {
   "cell_type": "code",
   "execution_count": 8,
   "metadata": {},
   "outputs": [
    {
     "name": "stdout",
     "output_type": "stream",
     "text": [
      "Rank 0 : (0)\n",
      "Rank 1 : (1)\n",
      "Rank 2 : (2)\n",
      "Rank 3 : (3)\n"
     ]
    }
   ],
   "source": [
    "%%bash\n",
    "\n",
    "rm -rf demo_02\n",
    "\n",
    "mpicc -o demo_02 demo_02.c\n",
    "mpirun -n 4 demo_02"
   ]
  },
  {
   "cell_type": "markdown",
   "metadata": {},
   "source": [
    "<a id=\"demo3\"></a>\n",
    "\n",
    "<hr style=\"border-width:4px; border-style:solid\"></hr>\n",
    "\n",
    "## Demo 3 - Pass an array between processors \n",
    "\n",
    "<hr style=\"border-width:4px; border-style:solid\"></hr>\n",
    "\n",
    "Rank 0 allocates an array of length 64, and initializes the array with integers $0,1,2,...64$.  Then rank 0 passes blocks of length $N/nprocs$ to the other ranks.  The program then reports the starting and ending values for the local arrays received by that rank."
   ]
  },
  {
   "cell_type": "code",
   "execution_count": 15,
   "metadata": {},
   "outputs": [
    {
     "name": "stdout",
     "output_type": "stream",
     "text": [
      "Overwriting demo_03.c\n"
     ]
    }
   ],
   "source": [
    "%%file demo_03.c\n",
    "\n",
    "#include <mpi.h>\n",
    "#include <stdio.h>    /* For IO */\n",
    "#include <stdlib.h>   /* For malloc */\n",
    "\n",
    "void main(int argc, char** argv)\n",
    "{\n",
    "    MPI_Init(&argc, &argv);\n",
    "\n",
    "    int rank, nprocs;\n",
    "    MPI_Comm_rank(MPI_COMM_WORLD, &rank);\n",
    "    MPI_Comm_size(MPI_COMM_WORLD, &nprocs);\n",
    "\n",
    "    /* Hardwire length of array */\n",
    "    int N = 64;\n",
    "    int Nlocal = N/nprocs;\n",
    "\n",
    "    double *x;\n",
    "    int tag = 0;\n",
    "    if (rank == 0)\n",
    "    {\n",
    "        /* Allocate and initialize a big array for all data */\n",
    "        x = malloc((N+1)*sizeof(double));\n",
    "        for(int i = 0; i < N+1; i++)\n",
    "        {\n",
    "            x[i] = i;\n",
    "        }\n",
    "        for(int p = 1; p < nprocs; p++)\n",
    "        {\n",
    "            int dest = p;\n",
    "            MPI_Send(&x[p*Nlocal],Nlocal+1,MPI_DOUBLE,dest,tag,MPI_COMM_WORLD);\n",
    "        }\n",
    "    }\n",
    "    else\n",
    "    {\n",
    "        int source = 0;\n",
    "        x = malloc((Nlocal+1)*sizeof(double));\n",
    "        MPI_Recv(x,Nlocal+1,MPI_DOUBLE,source,tag,MPI_COMM_WORLD,MPI_STATUS_IGNORE);\n",
    "    }\n",
    "    printf(\"Rank %d : (%2.0f,...,%2.0f)\\n\",rank,x[0],x[Nlocal]);\n",
    "        \n",
    "    free(x);\n",
    "    \n",
    "    MPI_Finalize();\n",
    "}"
   ]
  },
  {
   "cell_type": "code",
   "execution_count": 16,
   "metadata": {},
   "outputs": [
    {
     "name": "stdout",
     "output_type": "stream",
     "text": [
      "Rank 0 : ( 0,...,16)\n",
      "Rank 1 : (16,...,32)\n",
      "Rank 2 : (32,...,48)\n",
      "Rank 3 : (48,...,64)\n"
     ]
    }
   ],
   "source": [
    "%%bash\n",
    "\n",
    "rm -rf demo_03\n",
    "\n",
    "mpicc -o demo_03 demo_03.c\n",
    "mpirun -n 4 demo_03"
   ]
  },
  {
   "cell_type": "markdown",
   "metadata": {},
   "source": [
    "<a id=\"demo4\"></a>\n",
    "\n",
    "<hr style=\"border-width:4px; border-style:solid\"></hr>\n",
    "\n",
    "## Demo 4\n",
    "\n",
    "<hr style=\"border-width:4px; border-style:solid\"></hr>"
   ]
  },
  {
   "cell_type": "code",
   "execution_count": null,
   "metadata": {},
   "outputs": [],
   "source": []
  }
 ],
 "metadata": {
  "kernelspec": {
   "display_name": "Python 3",
   "language": "python",
   "name": "python3"
  },
  "language_info": {
   "codemirror_mode": {
    "name": "ipython",
    "version": 3
   },
   "file_extension": ".py",
   "mimetype": "text/x-python",
   "name": "python",
   "nbconvert_exporter": "python",
   "pygments_lexer": "ipython3",
   "version": "3.7.4"
  }
 },
 "nbformat": 4,
 "nbformat_minor": 2
}
