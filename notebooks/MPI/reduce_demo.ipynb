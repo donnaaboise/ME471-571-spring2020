{
 "cells": [
  {
   "cell_type": "code",
   "execution_count": 1,
   "metadata": {},
   "outputs": [
    {
     "name": "stdout",
     "output_type": "stream",
     "text": [
      "Using matplotlib backend: nbAgg\n",
      "Populating the interactive namespace from numpy and matplotlib\n"
     ]
    }
   ],
   "source": [
    "%matplotlib notebook\n",
    "%pylab"
   ]
  },
  {
   "cell_type": "markdown",
   "metadata": {},
   "source": [
    "<hr style=\"border-width:4px; border-style:solid; border-color:coral\"></hr>\n",
    "\n",
    "# MPI_Reduce\n",
    "\n",
    "<hr style=\"border-width:4px; border-style:solid; border-color:coral\"></hr>\n",
    "\n",
    "In this example, we use `MPI_Reduce` to compute the mean of a set of random numbers.  The strategy is : \n",
    "\n",
    "* Rank 0 allocates an array of length N and initializes entries to uniformly distributed random numbers in [0,1]\n",
    "\n",
    "* Rank 0 then sub-divides the array into `nprocs` segments and sends each segment to a rank. \n",
    "\n",
    "* Each rank computes the sum of the array entries it receives\n",
    "\n",
    "* Then, calling `MPI_Reduce`, the sum from all ranks is collected at rank 0. \n",
    "\n",
    "* Rank 0 collects the total sum, and divides by $N$.   \n",
    "\n",
    "We seed the random number generator with a fixed value so that we can expect the mean to be the same, regardless of how many processors we run the program on.   This value should be close to \n",
    "\n",
    "    mean = 0.5053434404086818"
   ]
  },
  {
   "cell_type": "code",
   "execution_count": 4,
   "metadata": {},
   "outputs": [
    {
     "name": "stdout",
     "output_type": "stream",
     "text": [
      "Writing reduce_demo.c\n"
     ]
    }
   ],
   "source": [
    "%%file reduce_demo.c\n",
    "\n",
    "#include <mpi.h>\n",
    "#include <stdio.h>\n",
    "#include <stdlib.h>\n",
    "\n",
    "double random_number()\n",
    "{\n",
    "  return (double) rand() / (double) RAND_MAX ;\n",
    "}\n",
    "\n",
    "void main(int argc, char** argv)\n",
    "{\n",
    "    MPI_Init(&argc, &argv);\n",
    "\n",
    "    int rank,nprocs;\n",
    "    MPI_Comm_rank(MPI_COMM_WORLD, &rank);\n",
    "    MPI_Comm_size(MPI_COMM_WORLD, &nprocs);\n",
    "\n",
    "    /* Length of large array */\n",
    "    int N = 8192;\n",
    "    int Nlocal = N/nprocs;\n",
    "\n",
    "    double *x;\n",
    "    int tag = 0;\n",
    "    if (rank == 0)\n",
    "    {\n",
    "        /* Seed random number generater */\n",
    "        srand(1234);\n",
    "        \n",
    "        /* Allocate memory to create data */\n",
    "        x = malloc(N*sizeof(double));\n",
    "        \n",
    "        /* Initialize array */\n",
    "        for(int i = 0; i < N; i++)\n",
    "        {\n",
    "            x[i] = random_number();\n",
    "        }\n",
    "        \n",
    "        /* Distribute subdomains of array to processors */\n",
    "        for(int p = 1; p < nprocs; p++)\n",
    "        {\n",
    "            int dest = p;\n",
    "            MPI_Send(&x[p*Nlocal],Nlocal,MPI_DOUBLE,dest,tag,MPI_COMM_WORLD);\n",
    "        }\n",
    "    }\n",
    "    else\n",
    "    {\n",
    "        int source = 0;\n",
    "        x = malloc(Nlocal*sizeof(double));\n",
    "        MPI_Recv(x,Nlocal,MPI_DOUBLE,source,tag,MPI_COMM_WORLD,MPI_STATUS_IGNORE);\n",
    "    }\n",
    "\n",
    "    double sum = 0;\n",
    "    for(int i = 0; i < Nlocal; i++)\n",
    "    {\n",
    "        sum += x[i];\n",
    "    }\n",
    "    printf(\"Rank %d : %.10f\\n\",rank,sum);\n",
    "\n",
    "    int root = 0;\n",
    "    double total_sum;\n",
    "    MPI_Reduce(&sum,&total_sum,1,MPI_DOUBLE,MPI_SUM,root,MPI_COMM_WORLD);    \n",
    "    double mean = total_sum/N;\n",
    "\n",
    "    if (rank == 0)\n",
    "    {\n",
    "        printf(\"Total sum : %.10f\\n\",total_sum);\n",
    "        printf(\"Mean is %.16f\\n\",mean);\n",
    "    }\n",
    "\n",
    "    free(x);\n",
    "    \n",
    "    MPI_Finalize();\n",
    "}"
   ]
  },
  {
   "cell_type": "code",
   "execution_count": 5,
   "metadata": {},
   "outputs": [
    {
     "name": "stdout",
     "output_type": "stream",
     "text": [
      "Rank 0 : 2064.2558083610\n",
      "Rank 1 : 2075.5176554669\n",
      "Total sum : 4139.7734638279\n",
      "Mean is 0.5053434404086818\n"
     ]
    }
   ],
   "source": [
    "%%bash\n",
    "\n",
    "rm -rf reduce_demo\n",
    "\n",
    "mpicc -o reduce_demo reduce_demo.c -lm\n",
    "\n",
    "mpirun -n 2 reduce_demo"
   ]
  },
  {
   "cell_type": "code",
   "execution_count": null,
   "metadata": {},
   "outputs": [],
   "source": []
  }
 ],
 "metadata": {
  "kernelspec": {
   "display_name": "Python 3",
   "language": "python",
   "name": "python3"
  },
  "language_info": {
   "codemirror_mode": {
    "name": "ipython",
    "version": 3
   },
   "file_extension": ".py",
   "mimetype": "text/x-python",
   "name": "python",
   "nbconvert_exporter": "python",
   "pygments_lexer": "ipython3",
   "version": "3.7.4"
  }
 },
 "nbformat": 4,
 "nbformat_minor": 2
}
