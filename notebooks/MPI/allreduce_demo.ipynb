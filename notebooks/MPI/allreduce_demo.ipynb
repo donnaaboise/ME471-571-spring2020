{
 "cells": [
  {
   "cell_type": "code",
   "execution_count": 1,
   "metadata": {},
   "outputs": [
    {
     "name": "stdout",
     "output_type": "stream",
     "text": [
      "Using matplotlib backend: nbAgg\n",
      "Populating the interactive namespace from numpy and matplotlib\n"
     ]
    }
   ],
   "source": [
    "%matplotlib notebook\n",
    "%pylab"
   ]
  },
  {
   "cell_type": "markdown",
   "metadata": {},
   "source": [
    "<hr style=\"border-width:4px; border-style:solid; border-color:coral\"></hr>\n",
    "\n",
    "# MPI_Allreduce\n",
    "\n",
    "<hr style=\"border-width:4px; border-style:solid; border-color:coral\"></hr>\n",
    "\n",
    "Like `MPI_Reduce`, `MPI_Allreduce` collects values from each processor and performs an operation on the collected values.   The difference is that all-reduce sends the result of the operation to all processors, not just the root processor.  Here, we use `MPI_Allreduce` to compute a standard deviation. \n",
    "\n",
    "**Note.** This example is not the best way to compute the variance and standard deviation, since it requires two communication calls.  A better way is to use the one-pass [Welford's Online Algorithm](https://en.wikipedia.org/wiki/Algorithms_for_calculating_variance).\n",
    "\n",
    "In this example, we use `MPI_Allreduce` to compute the variance and standard deviation of a set of random numbers.  The strategy is : \n",
    "\n",
    "* Rank 0 allocates an array of length N and initializes entries to uniformly distributed random numbers in [0,1]\n",
    "\n",
    "* Rank 0 then sub-divides the array into `nprocs` segments and sends each segment to a rank. \n",
    "\n",
    "* Each rank computes the sum of the array entries it receives\n",
    "\n",
    "* Then, calling `MPI_Allreduce`, each rank will get the total sum. Each rank then computes the global mean $\\bar{x}$. \n",
    "\n",
    "* Rank 'j` computes the sum\n",
    "\n",
    "\\begin{equation*}\n",
    "M_j = \\sum_{i=1}^{N_{local}} (x_{jp + i} - \\bar{x})^2\n",
    "\\end{equation*}\n",
    "\n",
    "\n",
    "* A call to `MPI_Reduce` then collects all local variances to node 0.  The standard is then computed by summing $M$ from all processors.   The standard deviation \n",
    "\n",
    "\\begin{equation*}\n",
    "S = \\sqrt{\\frac{\\sum_{j=1}^P M_j}{N-1}}\n",
    "\\end{equation*}\n",
    "\n",
    "\n",
    "We seed the random number generator with a fixed value so that we can expect the mean to be the same, regardless of how many processors we run the program on.   The value of the standard deviation should be close to \n",
    "\n",
    "\\begin{equation*}\n",
    "S \\approx \\frac{1}{\\sqrt{12}}\n",
    "\\end{equation*}\n"
   ]
  },
  {
   "cell_type": "code",
   "execution_count": 2,
   "metadata": {},
   "outputs": [
    {
     "name": "stdout",
     "output_type": "stream",
     "text": [
      "Overwriting allreduce_demo.c\n"
     ]
    }
   ],
   "source": [
    "%%file allreduce_demo.c\n",
    "\n",
    "#include <mpi.h>\n",
    "#include <stdio.h>\n",
    "#include <stdlib.h>\n",
    "#include <math.h>\n",
    "\n",
    "double random_number()\n",
    "{\n",
    "  return (double) rand() / (double) RAND_MAX ;\n",
    "}\n",
    "\n",
    "void main(int argc, char** argv)\n",
    "{\n",
    "    MPI_Init(&argc, &argv);\n",
    "\n",
    "    int rank,nprocs;\n",
    "    MPI_Comm_rank(MPI_COMM_WORLD, &rank);\n",
    "    MPI_Comm_size(MPI_COMM_WORLD, &nprocs);\n",
    "\n",
    "    /* Length of large array */\n",
    "    int N = 8192;\n",
    "    int Nlocal = N/nprocs;\n",
    "\n",
    "    double *x;\n",
    "    int tag = 0;\n",
    "    double et_setup;\n",
    "    if (rank == 0)\n",
    "    {\n",
    "        /* Seed random number generater */\n",
    "        srand(1234);\n",
    "        \n",
    "        /* Allocate memory to create data */\n",
    "        x = malloc(N*sizeof(double));\n",
    "        \n",
    "        /* Initialize array */\n",
    "        for(int i = 0; i < N; i++)\n",
    "        {\n",
    "            x[i] = random_number();\n",
    "        }\n",
    "        \n",
    "        /* Distribute subdomains of array to processors */\n",
    "        for(int p = 1; p < nprocs; p++)\n",
    "        {\n",
    "            int dest = p;\n",
    "            MPI_Send(&x[p*Nlocal],Nlocal,MPI_DOUBLE,dest,tag,MPI_COMM_WORLD);\n",
    "        }\n",
    "    }\n",
    "    else\n",
    "    {\n",
    "        int source = 0;\n",
    "        x = malloc(Nlocal*sizeof(double));\n",
    "        MPI_Recv(x,Nlocal,MPI_DOUBLE,source,tag,MPI_COMM_WORLD,MPI_STATUS_IGNORE);\n",
    "    }\n",
    "\n",
    "    double sum = 0;\n",
    "    for(int i = 0; i < Nlocal; i++)\n",
    "    {\n",
    "        sum += x[i];\n",
    "    }\n",
    "\n",
    "    /* Each processor will get the total sum */\n",
    "    int root = 0;\n",
    "    double total_sum;\n",
    "    MPI_Allreduce(&sum,&total_sum,1,MPI_DOUBLE,MPI_SUM,MPI_COMM_WORLD);    \n",
    "    double xbar = total_sum/N;\n",
    "\n",
    "    /* Get sum of square deviations from the mean. */\n",
    "    double s2 = 0;\n",
    "    for(int i = 0; i < Nlocal; i++)\n",
    "    {\n",
    "        s2 += (x[i] - xbar)*(x[i] - xbar);\n",
    "    }\n",
    "    \n",
    "    /* Collect sum on rank 0. */\n",
    "    MPI_Reduce(&s2,&total_sum,1,MPI_DOUBLE,MPI_SUM,root,MPI_COMM_WORLD);  \n",
    "    \n",
    "    if (rank == 0)\n",
    "    {\n",
    "        double std = sqrt(total_sum/(N-1));\n",
    "        printf(\"N = %d\\n\",N);\n",
    "        printf(\"STD            : %.16f\\n\",std);\n",
    "        printf(\"STD (expected) : %.16f\\n\",1./sqrt(12.0));\n",
    "    }\n",
    "\n",
    "    free(x);\n",
    "\n",
    "    MPI_Finalize();\n",
    "}"
   ]
  },
  {
   "cell_type": "code",
   "execution_count": 3,
   "metadata": {},
   "outputs": [
    {
     "name": "stdout",
     "output_type": "stream",
     "text": [
      "N = 8192\n",
      "STD            : 0.2866859640361239\n",
      "STD (expected) : 0.2886751345948129\n"
     ]
    },
    {
     "name": "stderr",
     "output_type": "stream",
     "text": [
      "\n",
      "real\t0m0.134s\n",
      "user\t0m0.031s\n",
      "sys\t0m0.122s\n"
     ]
    }
   ],
   "source": [
    "%%bash\n",
    "\n",
    "rm -rf allreduce_demo\n",
    "\n",
    "mpicc -o allreduce_demo allreduce_demo.c -lm\n",
    "\n",
    "time mpirun -n 4 allreduce_demo"
   ]
  },
  {
   "cell_type": "code",
   "execution_count": null,
   "metadata": {},
   "outputs": [],
   "source": []
  }
 ],
 "metadata": {
  "kernelspec": {
   "display_name": "Python 3",
   "language": "python",
   "name": "python3"
  },
  "language_info": {
   "codemirror_mode": {
    "name": "ipython",
    "version": 3
   },
   "file_extension": ".py",
   "mimetype": "text/x-python",
   "name": "python",
   "nbconvert_exporter": "python",
   "pygments_lexer": "ipython3",
   "version": "3.7.4"
  }
 },
 "nbformat": 4,
 "nbformat_minor": 2
}
