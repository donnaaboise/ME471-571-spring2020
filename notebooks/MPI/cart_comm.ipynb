{
 "cells": [
  {
   "cell_type": "markdown",
   "metadata": {},
   "source": [
    "<hr style=\"border-color:coral; border-width:2px\">\n",
    "\n",
    "## Using the Cartesian communicator\n",
    "\n",
    "<hr style=\"border-color:coral; border-width:2px\">\n",
    "\n",
    "We can use a Cartesian communicator to impose a Cartesian grid structure on a set of processors. "
   ]
  },
  {
   "cell_type": "code",
   "execution_count": 1,
   "metadata": {},
   "outputs": [
    {
     "name": "stdout",
     "output_type": "stream",
     "text": [
      "Using matplotlib backend: nbAgg\n",
      "Populating the interactive namespace from numpy and matplotlib\n"
     ]
    }
   ],
   "source": [
    "%matplotlib notebook\n",
    "%pylab"
   ]
  },
  {
   "cell_type": "markdown",
   "metadata": {},
   "source": [
    "<hr style=\"border-color:coral; border-width:2px\">\n",
    "\n",
    "# Shift data and replace\n",
    "\n",
    "In this example, each processor stores a single integer value, the rank of the processor.  We create a Cartesian communicator and then shift each value to a neighboring processor, depending on the value of the displacement.  \n",
    "\n",
    "* If **displacement** is 1, each processor sends its value to its right neighbor\n",
    "\n",
    "* If **displacement** is -1, each processor sends its value to its left neighbor\n",
    "\n",
    "If the domain is **periodic**, each processor has a neighbor.  If the domain is not periodic, then the left most processor does not have a left neighbor, and the rightmost processor does not have a right neighbor. "
   ]
  },
  {
   "cell_type": "code",
   "execution_count": 17,
   "metadata": {},
   "outputs": [
    {
     "name": "stdout",
     "output_type": "stream",
     "text": [
      "Overwriting cart_boundary_exchange.c\n"
     ]
    }
   ],
   "source": [
    "%%file cart_shift.c\n",
    "\n",
    "#include <mpi.h>\n",
    "#include <math.h>\n",
    "\n",
    "#include <stdio.h>\n",
    "#include <stdlib.h>\n",
    "\n",
    "void main(int argc, char** argv)\n",
    "{\n",
    "    MPI_Init(&argc, &argv);\n",
    "\n",
    "    int rank, nprocs;\n",
    "    MPI_Comm_rank(MPI_COMM_WORLD, &rank);\n",
    "    MPI_Comm_size(MPI_COMM_WORLD, &nprocs);\n",
    "    \n",
    "    if (argc < 2)\n",
    "    {\n",
    "        if (rank == 0)\n",
    "        {\n",
    "            printf(\"Usage : \\n\");\n",
    "            printf(\"    cart_shift <disp> <periodicity>\\n\");\n",
    "        }\n",
    "        exit(0);\n",
    "    }\n",
    "\n",
    "    /* Read input values */\n",
    "    int disp = atoi(argv[1]);\n",
    "    int p = atoi(argv[2]);\n",
    "\n",
    "    /* Each processor stores a single integer, equal to its rank */\n",
    "    int myval = rank;\n",
    "\n",
    "    MPI_Comm comm_cart;  /* Create a new communicator */\n",
    "    int ndim = 1;\n",
    "    int dims[1] = {nprocs};\n",
    "    int periodicity[1] = {p};\n",
    "    int reorder = 0;\n",
    "    MPI_Cart_create(MPI_COMM_WORLD, ndim, dims,  periodicity, reorder, &comm_cart);\n",
    "\n",
    "    /* source : This proc receives data from SOURCE\n",
    "       dest   : This proc sends data to DESTINATION */\n",
    "    \n",
    "    int dir = 0;\n",
    "    int source, dest;\n",
    "    MPI_Cart_shift(comm_cart, dir, disp, &source, &dest);\n",
    "    \n",
    "    /* Check for left and right boundaries */\n",
    "    if (source == MPI_PROC_NULL && disp == 1)\n",
    "    {\n",
    "        printf(\"Rank %d : No left neighbor found\\n\",rank);\n",
    "    }\n",
    "    else if (source == MPI_PROC_NULL && disp == -1)\n",
    "    {\n",
    "        printf(\"Rank %d : No right neighbor found\\n\",rank);\n",
    "    }\n",
    "\n",
    "    int tag = 0;\n",
    "    MPI_Sendrecv_replace(&myval, 1, MPI_INTEGER, dest, tag, \n",
    "                                    source, tag, comm_cart, MPI_STATUS_IGNORE);\n",
    "\n",
    "    printf(\"Rank %d : myval = %d (%d, %d)\\n\",rank, myval, source, dest);\n",
    "\n",
    "    MPI_Finalize();\n",
    "}"
   ]
  },
  {
   "cell_type": "code",
   "execution_count": 19,
   "metadata": {},
   "outputs": [
    {
     "name": "stdout",
     "output_type": "stream",
     "text": [
      "Rank 2 : myval = 3 (3, 1)\n",
      "Rank 3 : myval = 0 (0, 2)\n",
      "Rank 0 : myval = 1 (1, 3)\n",
      "Rank 1 : myval = 2 (2, 0)\n"
     ]
    }
   ],
   "source": [
    "%%bash \n",
    "\n",
    "mpicc -o cart_shift cart_shift.c\n",
    "\n",
    "mpirun -n 4 cart_shift -1 1"
   ]
  },
  {
   "cell_type": "markdown",
   "metadata": {},
   "source": [
    "<hr style=\"border-color:coral; border-width:2px\">\n",
    "\n",
    "# Filling ghost cell values\n",
    "\n",
    "<hr style=\"border-color:coral; border-width:2px\">\n",
    "\n",
    "We can also use the Cartesian communicator to fill ghost cell values.  "
   ]
  },
  {
   "cell_type": "code",
   "execution_count": 27,
   "metadata": {},
   "outputs": [
    {
     "name": "stdout",
     "output_type": "stream",
     "text": [
      "Overwriting cart_fill_ghost.c\n"
     ]
    }
   ],
   "source": [
    "%%file cart_fill_ghost.c\n",
    "\n",
    "#include <mpi.h>\n",
    "#include <math.h>\n",
    "\n",
    "#include <stdio.h>\n",
    "#include <stdlib.h>\n",
    "\n",
    "void main(int argc, char** argv)\n",
    "{\n",
    "    MPI_Init(&argc, &argv);\n",
    "\n",
    "    int rank, nprocs;\n",
    "    MPI_Comm_rank(MPI_COMM_WORLD, &rank);\n",
    "    MPI_Comm_size(MPI_COMM_WORLD, &nprocs);\n",
    "    \n",
    "    if (argc == 1)\n",
    "    {\n",
    "        if (rank == 0)\n",
    "        {\n",
    "            printf(\"Usage : \\n\");\n",
    "            printf(\"    cart_fill_ghost <periodicity>\\n\");\n",
    "        }\n",
    "        exit(0);\n",
    "    }\n",
    "\n",
    "    /* Read input values */\n",
    "    int p = atoi(argv[1]);\n",
    "    \n",
    "    double qmem[3];    \n",
    "    double *q = &qmem[1];\n",
    "\n",
    "    q[-1] = -999.;\n",
    "    q[0] = rank;\n",
    "    q[1] = 999;\n",
    "\n",
    "    /* Fill in q[-1] and q[1] with data from neighbors */\n",
    "    MPI_Comm comm_cart;\n",
    "    int ndim = 1;\n",
    "    int dims[1] = {nprocs};\n",
    "    int periodicity[1] = {p};\n",
    "    int reorder = 0;\n",
    "    MPI_Cart_create(MPI_COMM_WORLD, ndim, dims,  periodicity, reorder, &comm_cart);\n",
    "\n",
    "    /* Fill left ghost cells */\n",
    "    int dir = 0;\n",
    "    int disp = 1;\n",
    "    int source, dest;\n",
    "    int ierr = MPI_Cart_shift(comm_cart, dir, disp, &source, &dest);\n",
    "\n",
    "    int tag = 0;\n",
    "    MPI_Sendrecv(&q[0], 1, MPI_DOUBLE, dest, tag, \n",
    "                            &q[-1], 1, MPI_DOUBLE, source, tag, comm_cart, MPI_STATUS_IGNORE);\n",
    "\n",
    "    /* Fill right ghost cells */\n",
    "    disp = -1;  \n",
    "    MPI_Cart_shift(comm_cart, dir, disp, &source, &dest);\n",
    "\n",
    "    tag = 1;\n",
    "    ierr = MPI_Sendrecv(&q[0], 1, MPI_DOUBLE, dest, tag, \n",
    "                        &q[1], 1, MPI_DOUBLE, source, tag, comm_cart, MPI_STATUS_IGNORE);\n",
    "\n",
    "    printf(\"Rank %d : (%g, %g, %g)\\n\",rank, q[-1], q[0], q[1]);\n",
    "\n",
    "    MPI_Finalize();\n",
    "}"
   ]
  },
  {
   "cell_type": "code",
   "execution_count": 31,
   "metadata": {},
   "outputs": [
    {
     "name": "stdout",
     "output_type": "stream",
     "text": [
      "Rank 0 : (-999, 0, 1)\n",
      "Rank 1 : (0, 1, 2)\n",
      "Rank 2 : (1, 2, 3)\n",
      "Rank 3 : (2, 3, 4)\n",
      "Rank 4 : (3, 4, 5)\n",
      "Rank 5 : (4, 5, 6)\n",
      "Rank 6 : (5, 6, 999)\n"
     ]
    }
   ],
   "source": [
    "%%bash \n",
    "\n",
    "mpicc -o cart_fill_ghost cart_fill_ghost.c\n",
    "\n",
    "mpirun -n 7 cart_fill_ghost 0"
   ]
  },
  {
   "cell_type": "code",
   "execution_count": null,
   "metadata": {},
   "outputs": [],
   "source": []
  }
 ],
 "metadata": {
  "kernelspec": {
   "display_name": "Python 3",
   "language": "python",
   "name": "python3"
  },
  "language_info": {
   "codemirror_mode": {
    "name": "ipython",
    "version": 3
   },
   "file_extension": ".py",
   "mimetype": "text/x-python",
   "name": "python",
   "nbconvert_exporter": "python",
   "pygments_lexer": "ipython3",
   "version": "3.7.4"
  }
 },
 "nbformat": 4,
 "nbformat_minor": 2
}
