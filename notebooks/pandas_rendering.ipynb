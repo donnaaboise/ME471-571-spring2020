{
 "cells": [
  {
   "cell_type": "markdown",
   "metadata": {},
   "source": [
    "# Rendering Pandas output using nbconvert\n",
    "\n",
    "In a notebook, the Pandas styler does a nice job of rendering output from Pandas Dataframe.  The problem is that when you try to convert the notebook to nbconvert using \"nbconvert\", the dataframe doesn't not display, and instead you get a cryptic message that looks some like : \n",
    "\n",
    "    <pandas.io.formats.style.Styler at 0x120860e90>\n",
    "    \n",
    "instead of a nicely displayed spreadsheet.  \n",
    "\n",
    "Does anybody know how to fix this? \n",
    "\n",
    "The `nbconvert` command : \n",
    "\n",
    "    $ jupyter nbconvert --to PDF pandas_rendering.ipynb\n",
    "    \n",
    "All tips are welcome."
   ]
  },
  {
   "cell_type": "code",
   "execution_count": 1,
   "metadata": {},
   "outputs": [
    {
     "data": {
      "text/html": [
       "<style  type=\"text/css\" >\n",
       "</style><table id=\"T_8163f416_60aa_11ea_81c1_784f439ce51d\" ><thead>    <tr>        <th class=\"blank level0\" ></th>        <th class=\"col_heading level0 col0\" >Procs</th>        <th class=\"col_heading level0 col1\" >N</th>        <th class=\"col_heading level0 col2\" >error</th>    </tr></thead><tbody>\n",
       "                <tr>\n",
       "                        <th id=\"T_8163f416_60aa_11ea_81c1_784f439ce51dlevel0_row0\" class=\"row_heading level0 row0\" >0</th>\n",
       "                        <td id=\"T_8163f416_60aa_11ea_81c1_784f439ce51drow0_col0\" class=\"data row0 col0\" >         1</td>\n",
       "                        <td id=\"T_8163f416_60aa_11ea_81c1_784f439ce51drow0_col1\" class=\"data row0 col1\" >       512</td>\n",
       "                        <td id=\"T_8163f416_60aa_11ea_81c1_784f439ce51drow0_col2\" class=\"data row0 col2\" >2.5000e-01</td>\n",
       "            </tr>\n",
       "            <tr>\n",
       "                        <th id=\"T_8163f416_60aa_11ea_81c1_784f439ce51dlevel0_row1\" class=\"row_heading level0 row1\" >1</th>\n",
       "                        <td id=\"T_8163f416_60aa_11ea_81c1_784f439ce51drow1_col0\" class=\"data row1 col0\" >         2</td>\n",
       "                        <td id=\"T_8163f416_60aa_11ea_81c1_784f439ce51drow1_col1\" class=\"data row1 col1\" >      1024</td>\n",
       "                        <td id=\"T_8163f416_60aa_11ea_81c1_784f439ce51drow1_col2\" class=\"data row1 col2\" >1.2500e-01</td>\n",
       "            </tr>\n",
       "            <tr>\n",
       "                        <th id=\"T_8163f416_60aa_11ea_81c1_784f439ce51dlevel0_row2\" class=\"row_heading level0 row2\" >2</th>\n",
       "                        <td id=\"T_8163f416_60aa_11ea_81c1_784f439ce51drow2_col0\" class=\"data row2 col0\" >         4</td>\n",
       "                        <td id=\"T_8163f416_60aa_11ea_81c1_784f439ce51drow2_col1\" class=\"data row2 col1\" >      2046</td>\n",
       "                        <td id=\"T_8163f416_60aa_11ea_81c1_784f439ce51drow2_col2\" class=\"data row2 col2\" >6.2500e-02</td>\n",
       "            </tr>\n",
       "            <tr>\n",
       "                        <th id=\"T_8163f416_60aa_11ea_81c1_784f439ce51dlevel0_row3\" class=\"row_heading level0 row3\" >3</th>\n",
       "                        <td id=\"T_8163f416_60aa_11ea_81c1_784f439ce51drow3_col0\" class=\"data row3 col0\" >         8</td>\n",
       "                        <td id=\"T_8163f416_60aa_11ea_81c1_784f439ce51drow3_col1\" class=\"data row3 col1\" >      4096</td>\n",
       "                        <td id=\"T_8163f416_60aa_11ea_81c1_784f439ce51drow3_col2\" class=\"data row3 col2\" >3.1250e-02</td>\n",
       "            </tr>\n",
       "    </tbody></table>"
      ],
      "text/plain": [
       "<pandas.io.formats.style.Styler at 0x10fbf47d0>"
      ]
     },
     "execution_count": 1,
     "metadata": {},
     "output_type": "execute_result"
    }
   ],
   "source": [
    "import pandas as pd\n",
    "\n",
    "d = {'Procs' : [1,2,4,8], \\\n",
    "     'N' : [512, 1024, 2046, 4096], \\\n",
    "     'error' : [0.25,0.125, 0.0625, 0.03125]}\n",
    "df = pd.DataFrame(d)\n",
    "fstr = {'N' : '{:10d}'.format, 'Procs' : '{:10d}'.format, 'error' : '{:.4e}'.format}\n",
    "df.style.format(fstr)"
   ]
  },
  {
   "cell_type": "markdown",
   "metadata": {},
   "source": [
    "As possible workaround (thanks, Kirk) is to simply print the data frame using `print`.  \n",
    "\n",
    "The only downside is that I don't see any way to format the data, using the format dictionary, `fstr`, above."
   ]
  },
  {
   "cell_type": "code",
   "execution_count": 2,
   "metadata": {},
   "outputs": [
    {
     "name": "stdout",
     "output_type": "stream",
     "text": [
      "   Procs     N    error\n",
      "0      1   512  0.25000\n",
      "1      2  1024  0.12500\n",
      "2      4  2046  0.06250\n",
      "3      8  4096  0.03125\n"
     ]
    }
   ],
   "source": [
    "print(df)"
   ]
  },
  {
   "cell_type": "code",
   "execution_count": null,
   "metadata": {},
   "outputs": [],
   "source": []
  }
 ],
 "metadata": {
  "kernelspec": {
   "display_name": "Python 3",
   "language": "python",
   "name": "python3"
  },
  "language_info": {
   "codemirror_mode": {
    "name": "ipython",
    "version": 3
   },
   "file_extension": ".py",
   "mimetype": "text/x-python",
   "name": "python",
   "nbconvert_exporter": "python",
   "pygments_lexer": "ipython3",
   "version": "3.7.4"
  }
 },
 "nbformat": 4,
 "nbformat_minor": 2
}
