{
 "cells": [
  {
   "cell_type": "code",
   "execution_count": null,
   "metadata": {},
   "outputs": [],
   "source": [
    "%matplotlib notebook\n",
    "%pylab"
   ]
  },
  {
   "cell_type": "markdown",
   "metadata": {},
   "source": [
    "<hr style=\"border-width:4px; border-color:coral; border-style:solid\"/></br>\n",
    "\n",
    "## Check accuracy\n",
    "\n",
    "<hr style=\"border-width:4px; border-color:coral; border-style:solid\"/>\n",
    "\n",
    "This notebook shows you one way to check accuracy from your MPI runs.  In this example, we create files `trap_01.out`, `trap_02.out`, `trap_02.out` and so on for runs on 1, 2, 4, etc processors. You may need to modify th code so it works for your setup.\n",
    "\n",
    "This code assumes that you are writing your output in binary.  The advantages of the binary output is that we store the full precision of the data in the smallest possible file size. \n",
    "\n",
    "See the notebook 'binary_output' for details on creating binary files. "
   ]
  },
  {
   "cell_type": "code",
   "execution_count": null,
   "metadata": {},
   "outputs": [],
   "source": [
    "# Range of processor counts\n",
    "procs = [1,2,4,8]   # set to 1,2,4, and 8\n",
    "\n",
    "# Range of N values\n",
    "Nvec = [32,64,128,256,512,1024]\n",
    "\n",
    "# Name of executable\n",
    "exec_file = 'integral'"
   ]
  },
  {
   "cell_type": "markdown",
   "metadata": {},
   "source": [
    "We'll use a Pandas DataFrame and a MultiIndex to store the data for all the runs.  This will allow us to easily compare errors across different processors.\n",
    "\n",
    "The Pandas 'MultiIndex' is a nice feature to allow us to store multi-dimensional data.  Below, we store data for each tuple (P,N), where P is the processor count, and N is the dimension of the problem.   The data that we will store is the error.  "
   ]
  },
  {
   "cell_type": "code",
   "execution_count": null,
   "metadata": {},
   "outputs": [],
   "source": [
    "import pandas\n",
    "\n",
    "idx = pandas.IndexSlice\n",
    "\n",
    "index = pandas.MultiIndex.from_product([procs,Nvec],names=['Proc','N'])\n",
    "cols = ['Error']\n",
    "\n",
    "df_error = pandas.DataFrame(index=index,columns = cols).sort_index()\n",
    "index"
   ]
  },
  {
   "cell_type": "markdown",
   "metadata": {},
   "source": [
    "We run all jobs above and collect the data in a Pandas data frame.   The errors should be identical (up to rounding error) for the same N, regardless of number of processors.  "
   ]
  },
  {
   "cell_type": "code",
   "execution_count": null,
   "metadata": {},
   "outputs": [],
   "source": [
    "import subprocess\n",
    "import shlex\n",
    "import os\n",
    "\n",
    "# Output file\n",
    "filename = '{fexec:s}_{np:02}.out'.format\n",
    "\n",
    "# mpirun command\n",
    "shell_cmd = 'mpirun -n {np:d} {fexec:s} {N:d}'.format\n",
    "\n",
    "dt = dtype([('N','int32'), ('Error','d')])      \n",
    "\n",
    "for np in procs:\n",
    "    output_fname = filename(fexec=exec_file,np=np)    \n",
    "    try:\n",
    "        os.remove(output_fname)\n",
    "    except OSError as error: \n",
    "        #print(error)\n",
    "        pass\n",
    "    tvec = []\n",
    "    for N in Nvec:\n",
    "        cmd = shell_cmd(np=np,fexec=exec_file,N=N)\n",
    "        arg_list = shlex.split(cmd) \n",
    "        output = subprocess.run(arg_list)\n",
    "        \n",
    "    fout = open(output_fname,\"rb\")\n",
    "    data = fromfile(fout,dtype=dt)\n",
    "    fout.close()\n",
    "\n",
    "    df = pandas.DataFrame(data)\n",
    "    df_error.loc[(np,),:] = df[cols].values\n",
    "    \n",
    "df_error.loc[idx[:],'Error'] = df_error.loc[idx[:],'Error'].astype('double')\n",
    "df_error.unstack(1).style.format('{:.12e}'.format)"
   ]
  },
  {
   "cell_type": "code",
   "execution_count": null,
   "metadata": {},
   "outputs": [],
   "source": [
    "figure(1)\n",
    "clf()\n",
    "\n",
    "# plot results from processor 1 (since they are all the same)\n",
    "df_plot = df_error.loc[idx[1],:]\n",
    "\n",
    "loglog(Nvec,df_plot.values,'.-',markersize=15,label='Time')\n",
    "\n",
    "# Add slope to get best fit line\n",
    "nv = array(Nvec).astype('d')\n",
    "c = polyfit(log(nv),log(df_plot.values),1)\n",
    "loglog(nv,exp(polyval(c,log(nv))),'r*-', markersize=8,\\\n",
    "         label='Best-fit line (slope={:6.2f})'.format(c[0][0]),linewidth=1)\n",
    "\n",
    "# Add title, xlabel, ylabel, xticks and a legend\n",
    "def fix_xticks(Nvec):\n",
    "    p0 = log2(Nvec[0])\n",
    "    p1 = log2(Nvec[-1])\n",
    "    xlim([2**(p0-0.5), 2**(p1+0.5)])\n",
    "    \n",
    "    # Make nice tick marks\n",
    "    pstr = (['{:d}'.format(int(N)) for N in Nvec])\n",
    "    xticks(Nvec,pstr)\n",
    "\n",
    "fix_xticks(Nvec)  # Need numpy array, not a Pandas 'Series'\n",
    "xlabel(\"N\",fontsize=16)\n",
    "ylabel(\"Error\",fontsize=16)\n",
    "title(\"Errors in Left-endpoint method\",fontsize=18)\n",
    "legend()"
   ]
  },
  {
   "cell_type": "code",
   "execution_count": null,
   "metadata": {},
   "outputs": [],
   "source": []
  }
 ],
 "metadata": {
  "kernelspec": {
   "display_name": "Python 3",
   "language": "python",
   "name": "python3"
  },
  "language_info": {
   "codemirror_mode": {
    "name": "ipython",
    "version": 3
   },
   "file_extension": ".py",
   "mimetype": "text/x-python",
   "name": "python",
   "nbconvert_exporter": "python",
   "pygments_lexer": "ipython3",
   "version": "3.7.4"
  }
 },
 "nbformat": 4,
 "nbformat_minor": 2
}
