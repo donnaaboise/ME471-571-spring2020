{
 "cells": [
  {
   "cell_type": "code",
   "execution_count": null,
   "metadata": {},
   "outputs": [],
   "source": [
    "%matplotlib notebook\n",
    "%pylab"
   ]
  },
  {
   "cell_type": "markdown",
   "metadata": {},
   "source": [
    "<hr style=\"border-width:4px; border-color:coral; border-style:solid\"/></br>\n",
    "\n",
    "## Create  timing data\n",
    "\n",
    "<hr style=\"border-width:4px; border-color:coral; border-style:solid\"/>\n",
    "\n",
    "This notebook shows you one way to create data from MPI runs.  In this example, we create files `trap_01.out`, `trap_02.out`, `trap_02.out` and so on for runs on 1, 2, 4, etc processors. You may need to modify thsi code so it works for your setup.\n",
    "\n",
    "This code assumes that you are writing your output in binary.  The advantages of the binary output is that we store the full precision of the data in the smallest possible file size. \n",
    "\n",
    "For timing data, we need much larger values of `N` to see good scaling. So instead of providing `N` values, we specify a range of exponents `p` and define `N=2^p`. "
   ]
  },
  {
   "cell_type": "code",
   "execution_count": null,
   "metadata": {},
   "outputs": [],
   "source": [
    "procs = [1,2,4,8]   # set to 1,2,4, and 8\n",
    "exec_file = 'integral'\n",
    "pvec = array(range(5,10))     # N = 2^p"
   ]
  },
  {
   "cell_type": "markdown",
   "metadata": {},
   "source": [
    "We create a Pandas DataFrame, using a MultiIndex, so that we can store values for multiple values of the processor counts, and multiple N values. "
   ]
  },
  {
   "cell_type": "code",
   "execution_count": null,
   "metadata": {},
   "outputs": [],
   "source": [
    "import pandas\n",
    "\n",
    "idx = pandas.IndexSlice\n",
    "\n",
    "index = pandas.MultiIndex.from_product([procs,pvec],names=['Proc','p'])\n",
    "cols = ['Time']    # Data to store in the multi-index\n",
    "\n",
    "df_time = pandas.DataFrame(index=index,columns = cols)"
   ]
  },
  {
   "cell_type": "code",
   "execution_count": null,
   "metadata": {},
   "outputs": [],
   "source": [
    "import subprocess\n",
    "import shlex\n",
    "import timeit\n",
    "import os\n",
    "\n",
    "# Define data to read from output files\n",
    "dt = dtype([('N','int32'), ('Error','d')])  \n",
    "\n",
    "# Output file\n",
    "outfile = '{f:s}_{np:02}.out'.format\n",
    "\n",
    "# mpirun command\n",
    "shell_cmd = 'mpirun -n {np:d} {fexec:s} {p:d}'.format\n",
    "\n",
    "for np in procs:\n",
    "    output_fname = outfile(f=exec_file,np=np)    \n",
    "    try:\n",
    "        os.remove(output_fname)\n",
    "    except:\n",
    "        pass\n",
    "    tvec = []\n",
    "    for p in pvec:\n",
    "        cmd = shell_cmd(np=np,fexec=exec_file,p=p)\n",
    "        arg_list = shlex.split(cmd) \n",
    "        T = timeit.repeat(stmt='subprocess.run(arg_list)', \\\n",
    "                          repeat = 1, \\\n",
    "                          number = 1, \\\n",
    "                          globals=globals())        \n",
    "        tvec.append(min(array(T)))\n",
    "        \n",
    "    fout = open(output_fname,\"rb\")\n",
    "    data = fromfile(fout,dtype=dt)\n",
    "    fout.close()\n",
    "\n",
    "    df_time.loc[idx[np,:],'Time'] = tvec\n",
    "    \n",
    "df_time.loc[idx[:],'Time']= df_time.loc[idx[:],'Time'].astype('float')\n",
    "df_time"
   ]
  },
  {
   "cell_type": "markdown",
   "metadata": {},
   "source": [
    "We see that for $N=2^{28}$, we seem to get good scaling results.  So let's plot those values. "
   ]
  },
  {
   "cell_type": "code",
   "execution_count": null,
   "metadata": {},
   "outputs": [],
   "source": [
    "figure(1)\n",
    "clf()\n",
    "\n",
    "df_plot = df_time.loc[idx[:,28],'Time']\n",
    "\n",
    "loglog(procs,df_plot,'.-',markersize=15,label='Time')"
   ]
  },
  {
   "cell_type": "code",
   "execution_count": null,
   "metadata": {},
   "outputs": [],
   "source": [
    "# Add slope to get best fit line\n",
    "figure(1)\n",
    "\n",
    "c = polyfit(log(procs[:-1]),log(df_plot.values[:-1]),1)\n",
    "loglog(procs,exp(polyval(c,log(procs))),'r*-', markersize=10,\\\n",
    "         label='Best-fit line (slope={:6.2f})'.format(c[0]),linewidth=1)"
   ]
  },
  {
   "cell_type": "code",
   "execution_count": null,
   "metadata": {},
   "outputs": [],
   "source": [
    "# Add title, xlabel, ylabel, xticks and a legend\n",
    "figure(1)\n",
    "\n",
    "def fix_xticks(Nvec):\n",
    "    p0 = log2(Nvec[0])\n",
    "    p1 = log2(Nvec[-1])\n",
    "    xlim([2**(p0-0.5), 2**(p1+0.5)])\n",
    "    \n",
    "    # Make nice tick marks\n",
    "    pstr = (['{:d}'.format(int(N)) for N in Nvec])\n",
    "    xticks(Nvec,pstr)\n",
    "\n",
    "fix_xticks(procs)  # Need numpy array, not a Pandas 'Series'\n",
    "xlabel(\"Procs\",fontsize=16)\n",
    "ylabel(\"Time\",fontsize=16)\n",
    "title(\"Timing in trapezoidal method\",fontsize=18)\n",
    "legend()"
   ]
  },
  {
   "cell_type": "code",
   "execution_count": null,
   "metadata": {},
   "outputs": [],
   "source": []
  }
 ],
 "metadata": {
  "kernelspec": {
   "display_name": "Python 3",
   "language": "python",
   "name": "python3"
  },
  "language_info": {
   "codemirror_mode": {
    "name": "ipython",
    "version": 3
   },
   "file_extension": ".py",
   "mimetype": "text/x-python",
   "name": "python",
   "nbconvert_exporter": "python",
   "pygments_lexer": "ipython3",
   "version": "3.7.4"
  }
 },
 "nbformat": 4,
 "nbformat_minor": 2
}
