{
 "cells": [
  {
   "cell_type": "markdown",
   "metadata": {},
   "source": [
    "<hr style=\"border-width:4px; border-color:coral; border-style:solid\"/></br>\n",
    "\n",
    "# Reading and writing binary data\n",
    "\n",
    "<hr style=\"border-width:4px; border-color:coral; border-style:solid\"/>\n",
    "\n",
    "This notebook shows you how to write binary data in C and read it in in Python.  The advantages of the binary output is that we store the full precision of the data in the smallest possible file size.  It is very easy to read binary data, and considerably faster than reading data stored as ascii (human-readable) format."
   ]
  },
  {
   "cell_type": "code",
   "execution_count": null,
   "metadata": {},
   "outputs": [],
   "source": [
    "%matplotlib notebook\n",
    "%pylab"
   ]
  },
  {
   "cell_type": "markdown",
   "metadata": {},
   "source": [
    "<hr style=\"border-width:4px; border-color:coral; border-style:solid\"/></br>\n",
    "\n",
    "## Create a binary data file in C\n",
    "\n",
    "<hr style=\"border-width:4px; border-color:coral; border-style:solid\"/>\n",
    "\n",
    "As an example, we first create a sample data file in C."
   ]
  },
  {
   "cell_type": "code",
   "execution_count": null,
   "metadata": {},
   "outputs": [],
   "source": [
    "%%file binary_output.c\n",
    "\n",
    "#include <stdio.h>\n",
    "#include <stdlib.h>\n",
    "\n",
    "int main(int argc, char* argv[])\n",
    "{\n",
    "     /* Read 'N' from command line */\n",
    "    \n",
    "    int N = atoi(argv[1]);   /* Read argument from command line */\n",
    "    \n",
    "    /* ----- Run trapezoid method here with N intervals, compute error ----- */\n",
    "    \n",
    "    /* Fake second order error */\n",
    "    double err = 0.25;\n",
    "            \n",
    "    /* Sample binary output for the trapezoidal data on 1 processor*/\n",
    "    FILE *fout = fopen(\"trap_01.out\",\"w\");        \n",
    "    fwrite(&N,1,sizeof(int),fout);\n",
    "    fwrite(&err,1,sizeof(double),fout);\n",
    "    fclose(fout);\n",
    "    \n",
    "    return 0;\n",
    "}"
   ]
  },
  {
   "cell_type": "code",
   "execution_count": null,
   "metadata": {},
   "outputs": [],
   "source": [
    "%%bash\n",
    "\n",
    "gcc -o binary_output binary_output.c\n",
    "binary_output 128"
   ]
  },
  {
   "cell_type": "markdown",
   "metadata": {},
   "source": [
    "This code stores the value `N` as `int` and a length-3 vector `err` is an array of three doubles that stores the 1-norm, the 2-norm and Inf-norm of the error in the solution.  The file is a binary file that should be exactly size\n",
    "\n",
    "                     sizeof(double) + sizeof(int) = 12 bytes"
   ]
  },
  {
   "cell_type": "code",
   "execution_count": null,
   "metadata": {},
   "outputs": [],
   "source": [
    "ls -l trap_01.out"
   ]
  },
  {
   "cell_type": "markdown",
   "metadata": {},
   "source": [
    "The file is not \"human readable\", though."
   ]
  },
  {
   "cell_type": "code",
   "execution_count": 1,
   "metadata": {},
   "outputs": [
    {
     "name": "stdout",
     "output_type": "stream",
     "text": [
      "�\u0000\u0000\u0000\u0000\u0000\u0000\u0000\u0000\u0000�?"
     ]
    }
   ],
   "source": [
    "%cat trap_01.out"
   ]
  },
  {
   "cell_type": "markdown",
   "metadata": {},
   "source": [
    "<hr style=\"border-width:4px; border-color:coral; border-style:solid\"/></br>\n",
    "\n",
    "## Read a binary data in Python\n",
    "\n",
    "<hr style=\"border-width:4px; border-color:coral; border-style:solid\"/>\n",
    "\n",
    "To read this data in Python, we create a Numpy data type, open the file as binary, \n",
    "read from the file, and create a data type which can easily access the binary data.\n",
    "\n",
    "First, we create a data type to store our error data. "
   ]
  },
  {
   "cell_type": "code",
   "execution_count": null,
   "metadata": {},
   "outputs": [],
   "source": [
    "dt_error = dtype([('N','int32'), ('err','d')])  \n",
    "\n",
    "dt_error"
   ]
  },
  {
   "cell_type": "markdown",
   "metadata": {},
   "source": [
    "From this, we see that our data type `dt_error` is one `int` of 4 bytes and a length three array of type double (8 bytes). \n",
    "\n",
    "The following code reads our binary file and prints the results as an array of length 1 containing a tuple with entries to type `dt_error`. "
   ]
  },
  {
   "cell_type": "code",
   "execution_count": null,
   "metadata": {},
   "outputs": [],
   "source": [
    "output_file = 'trap_01.out'\n",
    "\n",
    "fout = open(output_file,\"rb\")\n",
    "d = fromfile(fout,dtype=dt_error, count=1)\n",
    "fout.close()\n",
    "\n",
    "print(d)"
   ]
  },
  {
   "cell_type": "markdown",
   "metadata": {},
   "source": [
    "### (1) Access data in the datatype tuple directly\n",
    "\n",
    "We can access the data in the dtype-tuple ('N','err') as"
   ]
  },
  {
   "cell_type": "code",
   "execution_count": null,
   "metadata": {},
   "outputs": [],
   "source": [
    "print(d[0])"
   ]
  },
  {
   "cell_type": "markdown",
   "metadata": {},
   "source": [
    "We need the `[0]` indexing so that we access the first entry in the array of datatypes return.  \n",
    "\n",
    "We can also extract individual values `(N,err)` by accessing individual entries in the tuple."
   ]
  },
  {
   "cell_type": "code",
   "execution_count": null,
   "metadata": {},
   "outputs": [],
   "source": [
    "N = d[0][0]\n",
    "err = d[0][1]\n",
    "print(N,err)"
   ]
  },
  {
   "cell_type": "markdown",
   "metadata": {},
   "source": [
    "### (2) Assign values directly in one statement\n",
    "\n",
    "We can assign values to `N` and `err` in one statement:"
   ]
  },
  {
   "cell_type": "code",
   "execution_count": null,
   "metadata": {},
   "outputs": [],
   "source": [
    "N,err = d[0]\n",
    "print(N,err)"
   ]
  },
  {
   "cell_type": "markdown",
   "metadata": {},
   "source": [
    "### (3) Read directly into a datatype from a file\n",
    "\n",
    "Or, we can do this directly using from the `fromfile` call.  \n",
    "\n",
    "*NOTE* : The trailing `[0]` is needed to extract the tuple from the array. "
   ]
  },
  {
   "cell_type": "code",
   "execution_count": null,
   "metadata": {},
   "outputs": [],
   "source": [
    "fout = open(output_file,\"rb\")\n",
    "N,err = fromfile(fout,dtype=dt_error, count=1)[0]\n",
    "fout.close()\n",
    "\n",
    "print('{:10d} {:12.4e}'.format(N,err))"
   ]
  },
  {
   "cell_type": "markdown",
   "metadata": {},
   "source": [
    "<hr style=\"border-width:4px; border-color:coral; border-style:solid\"/></br>\n",
    "\n",
    "## Reading a table of error data\n",
    "\n",
    "<hr style=\"border-width:4px; border-color:coral; border-style:solid\"/></br>\n",
    "\n",
    "The above Python code can also be used to read a table of values from a binary file. "
   ]
  },
  {
   "cell_type": "code",
   "execution_count": null,
   "metadata": {},
   "outputs": [],
   "source": [
    "%%file binary_output_table.c\n",
    "\n",
    "#include <stdio.h>\n",
    "#include <stdlib.h>\n",
    "\n",
    "#include <math.h>\n",
    "\n",
    "int main(int argc, char* argv[])\n",
    "{\n",
    "    int rows = 5;\n",
    "    int N0 = atoi(argv[1]);\n",
    "    \n",
    "    /* Create artificialsecond order error */\n",
    "    double err0 = 0.25;\n",
    "            \n",
    "    /* Sample binary output for the trapezoidal data on 1 processor*/\n",
    "    FILE *fout = fopen(\"errors_01.out\",\"w\"); \n",
    "    for(int i = 0; i < rows; i++)\n",
    "    {\n",
    "        int factor = pow(2,i);\n",
    "        int N = N0*pow(2,i);\n",
    "        double err = err0/pow(4,i);\n",
    "        fwrite(&N,1,sizeof(int),fout);\n",
    "        fwrite(&err,1,sizeof(double),fout);\n",
    "    }\n",
    "    fclose(fout);\n",
    "    \n",
    "    return 0;\n",
    "}"
   ]
  },
  {
   "cell_type": "code",
   "execution_count": null,
   "metadata": {},
   "outputs": [],
   "source": [
    "%%bash\n",
    "\n",
    "gcc -o binary_output_table binary_output_table.c -lm\n",
    "binary_output_table 32"
   ]
  },
  {
   "cell_type": "markdown",
   "metadata": {},
   "source": [
    "To read the table of values, we have to return "
   ]
  },
  {
   "cell_type": "code",
   "execution_count": null,
   "metadata": {},
   "outputs": [],
   "source": [
    "output_file = 'errors_01.out'\n",
    "\n",
    "fout = open(output_file,\"rb\")\n",
    "error_table = fromfile(fout,dtype=dt_error)\n",
    "fout.close()\n",
    "\n",
    "print(error_table)"
   ]
  },
  {
   "cell_type": "markdown",
   "metadata": {},
   "source": [
    "We can access individual tuple entries as"
   ]
  },
  {
   "cell_type": "code",
   "execution_count": null,
   "metadata": {},
   "outputs": [],
   "source": [
    "print(error_table[3])"
   ]
  },
  {
   "cell_type": "markdown",
   "metadata": {},
   "source": [
    "<hr style=\"border-width:4px; border-color:coral; border-style:solid\"/></br>\n",
    "\n",
    "## Converting table to a Pandas DataFrame object\n",
    "\n",
    "<hr style=\"border-width:4px; border-color:coral; border-style:solid\"/></br>\n",
    "\n",
    "Storing the data as a Pandas DataFrame makes it easy to extract our data for plotting. "
   ]
  },
  {
   "cell_type": "code",
   "execution_count": null,
   "metadata": {},
   "outputs": [],
   "source": [
    "import pandas\n",
    "\n",
    "fout = open(output_file,\"rb\")\n",
    "data = fromfile(fout,dtype=dt_error)\n",
    "fout.close()\n",
    "\n",
    "df_error = pandas.DataFrame(data)\n",
    "fstr = {'N' : '{:d}'.format, 'err' : '{:.4e}'.format}\n",
    "df_error.style.format(fstr)"
   ]
  },
  {
   "cell_type": "markdown",
   "metadata": {},
   "source": [
    "<hr style=\"border-style:solid; border-width:4px; border-color:coral\"/>\n",
    "\n",
    "## Plotting error results\n",
    "\n",
    "<hr style=\"border-style:solid; border-width:4px; border-color:coral\"/>\n",
    "\n",
    "We can extract the N values and error values from the DataFrame, and plot the error results.  The slope of the best-fit line should be close to -2.   This is a good test to see that you are doing your discretization and communication in your MPI code correctly."
   ]
  },
  {
   "cell_type": "code",
   "execution_count": null,
   "metadata": {},
   "outputs": [],
   "source": [
    "figure(1)\n",
    "clf()\n",
    "\n",
    "loglog(df_error['N'],df_error['err'],'b.-',color='b',markersize=20,label=\"Computed error\")"
   ]
  },
  {
   "cell_type": "code",
   "execution_count": null,
   "metadata": {},
   "outputs": [],
   "source": [
    "# Add slope to get best fit line\n",
    "figure(1)\n",
    "\n",
    "c = polyfit(log(df_error['N']),log(df_error['err']),1)\n",
    "loglog(df_error['N'],exp(polyval(c,log(df_error['N']))),'r*', markersize=10,\\\n",
    "         label='Best-fit line (slope={:6.2f})'.format(c[0]),linewidth=1)"
   ]
  },
  {
   "cell_type": "code",
   "execution_count": null,
   "metadata": {},
   "outputs": [],
   "source": [
    "# Add title, xlabel, ylabel, xticks and a legend\n",
    "\n",
    "figure(1)\n",
    "\n",
    "def fix_xticks(Nvec):\n",
    "    p0 = log2(Nvec[0])\n",
    "    p1 = log2(Nvec[-1])\n",
    "    xlim([2**(p0-0.5), 2**(p1+0.5)])\n",
    "    \n",
    "    # Make nice tick marks\n",
    "    pstr = (['{:d}'.format(int(N)) for N in Nvec])\n",
    "    xticks(Nvec,pstr)\n",
    "\n",
    "fix_xticks(df_error['N'].values)  # Need numpy array, not a Pandas 'Series'\n",
    "xlabel(\"N\",fontsize=16)\n",
    "ylabel(\"Error\",fontsize=16)\n",
    "title(\"Error in trapezoidal method\",fontsize=18)\n",
    "legend()"
   ]
  },
  {
   "cell_type": "markdown",
   "metadata": {},
   "source": [
    "*NOTE* : The above plot uses artificial data so the best-fit line perfectly matches our \"error\" data.  For the trapezoidal problem, you should see similar error results. "
   ]
  },
  {
   "cell_type": "code",
   "execution_count": null,
   "metadata": {},
   "outputs": [],
   "source": []
  }
 ],
 "metadata": {
  "kernelspec": {
   "display_name": "Python 3",
   "language": "python",
   "name": "python3"
  },
  "language_info": {
   "codemirror_mode": {
    "name": "ipython",
    "version": 3
   },
   "file_extension": ".py",
   "mimetype": "text/x-python",
   "name": "python",
   "nbconvert_exporter": "python",
   "pygments_lexer": "ipython3",
   "version": "3.7.4"
  }
 },
 "nbformat": 4,
 "nbformat_minor": 2
}
