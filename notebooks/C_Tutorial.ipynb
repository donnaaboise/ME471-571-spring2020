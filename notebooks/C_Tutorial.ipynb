{
 "cells": [
  {
   "cell_type": "markdown",
   "metadata": {},
   "source": [
    "# C Tutorial\n",
    "\n",
    "The following series of simple functions should give you an idea as to how to use pointer variables, statically allocated arrays and dynamically allocated arrays. "
   ]
  },
  {
   "cell_type": "markdown",
   "metadata": {},
   "source": [
    "<hr style=\"border-width:4px; border-color:coral; border-style:solid\"</hr>\n",
    "\n",
    "## Hello, World!\n",
    "\n",
    "We can use Jupyter notebooks to compile and run simple C programs. "
   ]
  },
  {
   "cell_type": "code",
   "execution_count": null,
   "metadata": {},
   "outputs": [],
   "source": [
    "%%file c_demo0.c\n",
    "#include <stdio.h>\n",
    "\n",
    "int main(int argc, char* argv)\n",
    "{\n",
    "    printf(\"Greetings from Jupyter!  \\n\");\n",
    "}"
   ]
  },
  {
   "cell_type": "code",
   "execution_count": null,
   "metadata": {},
   "outputs": [],
   "source": [
    "%%bash\n",
    "gcc -o c_demo0 c_demo0.c\n",
    "c_demo0\n"
   ]
  },
  {
   "cell_type": "markdown",
   "metadata": {},
   "source": [
    "<hr style=\"border-width:4px; border-color:coral; border-style:solid\"</hr>\n",
    "\n",
    "## (1) Passing scalars by value\n",
    "\n",
    "A simple function in C can take arguments \"by value\"."
   ]
  },
  {
   "cell_type": "code",
   "execution_count": null,
   "metadata": {},
   "outputs": [],
   "source": [
    "%%file c_demo1.c\n",
    "#include <stdio.h>\n",
    "\n",
    "double scalar_multiply(int a, double x)\n",
    "{\n",
    "    return a*x;\n",
    "}\n",
    "\n",
    "int main(int argc, char* argv)\n",
    "{\n",
    "    /* Data types */\n",
    "    int a;\n",
    "    double x; \n",
    "    \n",
    "    a = 2; \n",
    "    x = 1.14;\n",
    "    \n",
    "    double z = scalar_multiply(a,x); \n",
    "    \n",
    "    printf(\"z = %g\\n\",z);\n",
    "    \n",
    "    return 0;\n",
    "}\n"
   ]
  },
  {
   "cell_type": "code",
   "execution_count": null,
   "metadata": {},
   "outputs": [],
   "source": [
    "%%bash \n",
    "gcc -o c_demo1 c_demo1.c\n",
    "c_demo1"
   ]
  },
  {
   "cell_type": "markdown",
   "metadata": {},
   "source": [
    "<hr style=\"border-width:4px; border-color:coral; border-style:solid\"</hr>\n",
    "\n",
    "## (2) Memory addresses\n",
    "Use the '&' to get the address location of a variable in memory. "
   ]
  },
  {
   "cell_type": "code",
   "execution_count": null,
   "metadata": {},
   "outputs": [],
   "source": [
    "%%file c_demo2.c\n",
    "#include <stdio.h>\n",
    "\n",
    "int main(int argc, char* argv)\n",
    "{\n",
    "    /* Data types */\n",
    "    int a;\n",
    "    double x; \n",
    "    \n",
    "    a = 2; \n",
    "    x = 1.14;\n",
    "\n",
    "    printf(\"Address location of a :  = %p\\n\",&a);\n",
    "    printf(\"Address location of x :  = %p\\n\",&x);\n",
    "    \n",
    "    return 0;\n",
    "}"
   ]
  },
  {
   "cell_type": "code",
   "execution_count": null,
   "metadata": {},
   "outputs": [],
   "source": [
    "%%bash \n",
    "gcc -o c_demo2 c_demo2.c\n",
    "c_demo2"
   ]
  },
  {
   "cell_type": "markdown",
   "metadata": {},
   "source": [
    "<hr style=\"border-width:4px; border-color:coral; border-style:solid\"</hr>\n",
    "\n",
    "## (3) Storing memory addresses using pointer variables\n",
    "\n",
    "Use the '*' to declare variables that can store addresses. "
   ]
  },
  {
   "cell_type": "code",
   "execution_count": null,
   "metadata": {},
   "outputs": [],
   "source": [
    "%%file c_demo3.c\n",
    "#include <stdio.h>\n",
    "\n",
    "int main(int argc, char* argv)\n",
    "{\n",
    "    /* Data types */\n",
    "    int a,*b;\n",
    "    double x, *y; \n",
    "    \n",
    "    a = 2; \n",
    "    x = 1.14;\n",
    "    \n",
    "    \n",
    "    b = &a;\n",
    "    y = &x;\n",
    "\n",
    "    printf(\"Address location of a :  = %p\\n\",&a);\n",
    "    printf(\"                    b :  = %p\\n\",b);\n",
    "    printf(\"\\n\");\n",
    "    printf(\"Address location of x :  = %p\\n\",&x);\n",
    "    printf(\"                    y :  = %p\\n\",y);\n",
    "\n",
    "    return 0;\n",
    "}"
   ]
  },
  {
   "cell_type": "code",
   "execution_count": null,
   "metadata": {},
   "outputs": [],
   "source": [
    "%%bash \n",
    "\n",
    "gcc -o c_demo3 c_demo3.c\n",
    "c_demo3"
   ]
  },
  {
   "cell_type": "markdown",
   "metadata": {},
   "source": [
    "<hr style=\"border-width:4px; border-color:coral; border-style:solid\"</hr>\n",
    "\n",
    "## (4) Dereferencing pointer variables\n",
    "\n",
    "Use the '*' to dereference a memory address and obtain the value stored at that address. "
   ]
  },
  {
   "cell_type": "code",
   "execution_count": null,
   "metadata": {},
   "outputs": [],
   "source": [
    "%%file c_demo4.c\n",
    "#include <stdio.h>\n",
    "\n",
    "int main(int argc, char* argv)\n",
    "{\n",
    "    /* Data types */\n",
    "    int a, *b;\n",
    "    double x, *y; \n",
    "    \n",
    "    b = &a;\n",
    "    y = &x;\n",
    "\n",
    "    a = 2; \n",
    "    x = 1.14;\n",
    "    printf(\"value stored at b :  = %d\\n\",*b);\n",
    "    printf(\"value stored at y :  = %g\\n\",*y);\n",
    "    printf(\"\\n\");\n",
    "    \n",
    "    a = -4;\n",
    "    x = 3.14159;\n",
    "    printf(\"new value stored at b :  = %d\\n\",*b);\n",
    "    printf(\"new value stored at y :  = %g\\n\",*y);\n",
    "\n",
    "    \n",
    "    return 0;\n",
    "}"
   ]
  },
  {
   "cell_type": "code",
   "execution_count": null,
   "metadata": {},
   "outputs": [],
   "source": [
    "%%bash \n",
    "gcc -o c_demo4  c_demo4.c\n",
    "c_demo4"
   ]
  },
  {
   "cell_type": "markdown",
   "metadata": {},
   "source": [
    "<hr style=\"border-width:4px; border-color:coral; border-style:solid\"</hr>\n",
    "\n",
    "## (5) Passing values by reference\n",
    "\n",
    "We can use pointer variables to return the result of the function in an argument that is passed by reference. "
   ]
  },
  {
   "cell_type": "code",
   "execution_count": null,
   "metadata": {},
   "outputs": [],
   "source": [
    "%%file c_demo5.c\n",
    "#include <stdio.h>\n",
    "\n",
    "void scalar_multiply(int a, double x, double *z)\n",
    "{\n",
    "    *z = a*x;\n",
    "}\n",
    "\n",
    "int main(int argc, char* argv)\n",
    "{\n",
    "    /* Data types */\n",
    "    int a;\n",
    "    double x, z; \n",
    "    \n",
    "    a = 2; \n",
    "    x = 1.14;    \n",
    "    scalar_multiply(a,x,&z); \n",
    "    \n",
    "    printf(\"z = %g\\n\",z);\n",
    "    \n",
    "    return 0;\n",
    "}"
   ]
  },
  {
   "cell_type": "code",
   "execution_count": null,
   "metadata": {},
   "outputs": [],
   "source": [
    "%%bash\n",
    "gcc -o c_demo5 c_demo5.c\n",
    "c_demo5"
   ]
  },
  {
   "cell_type": "markdown",
   "metadata": {},
   "source": [
    "<hr style=\"border-width:4px; border-color:coral; border-style:solid\"</hr>\n",
    "\n",
    "## (6) Static arrays\n",
    "\n",
    "Static arrays are allocated at compile time.   Variable lengths not allowed when declaring static arrays. "
   ]
  },
  {
   "cell_type": "code",
   "execution_count": null,
   "metadata": {},
   "outputs": [],
   "source": [
    "%%file c_demo6.c\n",
    "#include <stdio.h>\n",
    "\n",
    "int main(int argc, char* argv)\n",
    "{\n",
    "    /* Data types */\n",
    "    int a[5];\n",
    "    double x[3]; \n",
    "\n",
    "    for(int i = 0; i < 5; i++)\n",
    "    {\n",
    "        a[i] = i;\n",
    "    }\n",
    "    \n",
    "    for(int i = 0; i < 3; i++)\n",
    "    {\n",
    "        x[i]= i*3.14159;\n",
    "    }\n",
    "    \n",
    "    printf(\"a[2]*x[2] = %g\\n\",a[2]*x[2]);\n",
    "    \n",
    "    /* No bounds checking! */\n",
    "    printf(\"Uh oh .... x[5] = %g\\n\",x[5]);  /* Behavior is undefined; could seg. fault */\n",
    "    \n",
    "    return 0;\n",
    "}"
   ]
  },
  {
   "cell_type": "code",
   "execution_count": null,
   "metadata": {},
   "outputs": [],
   "source": [
    "%%bash \n",
    "gcc -o c_demo6 c_demo6.c\n",
    "c_demo6"
   ]
  },
  {
   "cell_type": "markdown",
   "metadata": {},
   "source": [
    "<hr style=\"border-width:4px; border-color:coral; border-style:solid\"</hr>\n",
    "\n",
    "## (7) Pointer variables and static arrays (version 1)\n",
    "\n",
    "Static arrays have addresses, and entries can be referenced and dereferenced. \n",
    "Pointers can point be used to dereference entries of a static array.  When used in this way, pointer variables are dereferenced exactly like arrays. "
   ]
  },
  {
   "cell_type": "code",
   "execution_count": null,
   "metadata": {},
   "outputs": [],
   "source": [
    "%%file c_demo7.c\n",
    "#include <stdio.h>\n",
    "\n",
    "int main(int argc, char* argv)\n",
    "{\n",
    "    /* Data types */\n",
    "    int a[5], *b;\n",
    "    double x[3], *y; \n",
    "\n",
    "    b = &a[0];  /* Point to first entry of a */\n",
    "    y = &x[0];  /* Point to first entry of x */\n",
    "    \n",
    "    for(int i = 0; i < 5; i++)\n",
    "    {\n",
    "        a[i] = i;\n",
    "    }\n",
    "    \n",
    "    for(int i = 0; i < 3; i++)\n",
    "    {\n",
    "        x[i]= i*3.14159;\n",
    "    }\n",
    "    \n",
    "    printf(\"a[3] = %d\\n\",a[3]);\n",
    "    printf(\"b[3] = %d\\n\",b[3]);\n",
    "    printf(\"\\n\");\n",
    "    printf(\"x[2] = %g\\n\",x[2]);    \n",
    "    printf(\"y[2] = %g\\n\",y[2]);\n",
    "    \n",
    "    return 0;\n",
    "}"
   ]
  },
  {
   "cell_type": "code",
   "execution_count": null,
   "metadata": {},
   "outputs": [],
   "source": [
    "%%bash \n",
    "gcc -o c_demo7 c_demo7.c\n",
    "c_demo7"
   ]
  },
  {
   "cell_type": "markdown",
   "metadata": {},
   "source": [
    "<hr style=\"border-width:4px; border-color:coral; border-style:solid\"</hr>\n",
    "\n",
    "## (8) Pointer variables and static arrays (version 2)\n",
    "\n",
    "Static variables are themselves an \"addresses\" and so their value is in fact an address and be assigned directly to a pointer array."
   ]
  },
  {
   "cell_type": "code",
   "execution_count": null,
   "metadata": {},
   "outputs": [],
   "source": [
    "%%file c_demo8.c\n",
    "#include <stdio.h>\n",
    "\n",
    "int main(int argc, char* argv)\n",
    "{\n",
    "    /* Data types */\n",
    "    int a[5], *b;\n",
    "    double x[3], *y; \n",
    "\n",
    "    b = a;     \n",
    "    y = x;  \n",
    "    \n",
    "    a[0] = 3;\n",
    "    x[0] = -5.6;\n",
    "    \n",
    "    printf(\"b[0] = %d\\n\",b[0]);\n",
    "    printf(\"y[0] = %g\\n\",y[0]);\n",
    "    \n",
    "    return 0;\n",
    "}"
   ]
  },
  {
   "cell_type": "code",
   "execution_count": null,
   "metadata": {},
   "outputs": [],
   "source": [
    "%%bash\n",
    "gcc -o c_demo8 c_demo8.c\n",
    "c_demo7"
   ]
  },
  {
   "cell_type": "markdown",
   "metadata": {},
   "source": [
    "<hr style=\"border-width:4px; border-color:coral; border-style:solid\"</hr>\n",
    "\n",
    "## (9) Pointer arithmetic"
   ]
  },
  {
   "cell_type": "code",
   "execution_count": null,
   "metadata": {},
   "outputs": [],
   "source": [
    "%%file c_demo9.c\n",
    "#include <stdio.h>\n",
    "\n",
    "int main(int argc, char* argv)\n",
    "{\n",
    "    /* Data types */\n",
    "    int a[10], *b;\n",
    "\n",
    "    a[0] = 1;\n",
    "    a[1] = 1;\n",
    "    for(int i = 2; i < 10; i++)\n",
    "    {\n",
    "        a[i] = a[i-1] + a[i-2];\n",
    "    }    \n",
    "    b = a + 6;     /* (:-)) */\n",
    "    \n",
    "    printf(\"b[0] = %d\\n\",b[0]);\n",
    "    printf(\"*b = %d\\n\",*b);\n",
    "    printf(\"*(b+1) = %d\\n\",*(b+1));\n",
    "    \n",
    "    return 0;\n",
    "}"
   ]
  },
  {
   "cell_type": "code",
   "execution_count": null,
   "metadata": {},
   "outputs": [],
   "source": [
    "%%bash\n",
    "gcc -o c_demo9 c_demo9.c\n",
    "c_demo9"
   ]
  },
  {
   "cell_type": "markdown",
   "metadata": {},
   "source": [
    "<hr style=\"border-width:4px; border-color:coral; border-style:solid\"</hr>\n",
    "\n",
    "## (10) Passing static arrays to functions"
   ]
  },
  {
   "cell_type": "code",
   "execution_count": null,
   "metadata": {},
   "outputs": [],
   "source": [
    "%%file c_demo10.c\n",
    "#include <stdio.h>\n",
    "\n",
    "void fill_fibonacci(int n, int* b)\n",
    "{\n",
    "    b[0] = 1;\n",
    "    b[1] = 1;\n",
    "    for(int i = 2; i < n; i++)\n",
    "    {\n",
    "        b[i] = b[i-1] + b[i-2];\n",
    "    }    \n",
    "}\n",
    "\n",
    "int main(int argc, char* argv)\n",
    "{\n",
    "    /* Data types */\n",
    "    int a[10];\n",
    "        \n",
    "    fill_fibonacci(10,a);\n",
    "    \n",
    "    printf(\"a[7] = %d\\n\",a[7]);\n",
    "    \n",
    "    return 0;\n",
    "}"
   ]
  },
  {
   "cell_type": "code",
   "execution_count": null,
   "metadata": {},
   "outputs": [],
   "source": [
    "%%bash\n",
    "gcc -o c_demo10 c_demo10.c\n",
    "c_demo10"
   ]
  },
  {
   "cell_type": "markdown",
   "metadata": {},
   "source": [
    "<hr style=\"border-width:4px; border-color:coral; border-style:solid\"</hr>\n",
    "\n",
    "## (11) Size of data types\n",
    "\n",
    "Each data type has a size. This will be needed to dynamicallly allocate memory for arrays. "
   ]
  },
  {
   "cell_type": "code",
   "execution_count": null,
   "metadata": {},
   "outputs": [],
   "source": [
    "%%file c_demo11.c\n",
    "#include <stdio.h>\n",
    "\n",
    "int main(int argc, char* argv)\n",
    "{\n",
    "    /* Data types */\n",
    "    printf(\"A 'char'       is %d bytes\\n\",sizeof(char));\n",
    "    printf(\"A 'short int'  is %d bytes\\n\",sizeof(short int));\n",
    "    printf(\"An 'int'       is %d bytes\\n\",sizeof(int));\n",
    "    printf(\"A 'float'      is %d bytes\\n\",sizeof(float));\n",
    "    printf(\"A 'long int'   is %d bytes\\n\",sizeof(long int));\n",
    "    printf(\"A 'double'     is %d bytes\\n\",sizeof(double));\n",
    "    printf(\"A 'pointer'    is %d bytes\\n\",sizeof(void*));\n",
    "    \n",
    "    return 0;\n",
    "}"
   ]
  },
  {
   "cell_type": "code",
   "execution_count": null,
   "metadata": {},
   "outputs": [],
   "source": [
    "%%bash\n",
    "gcc -o c_demo11 c_demo11.c\n",
    "c_demo11"
   ]
  },
  {
   "cell_type": "markdown",
   "metadata": {},
   "source": [
    "<hr style=\"border-width:4px; border-color:coral; border-style:solid\"</hr>\n",
    "\n",
    "## (12) Dynamically allocated arrays\n",
    "\n",
    "We can allocate memory dynamically to get more flexible array sizes. We also have to be sure to delete the memory when we are done. "
   ]
  },
  {
   "cell_type": "code",
   "execution_count": null,
   "metadata": {},
   "outputs": [],
   "source": [
    "%%file c_demo12.c\n",
    "#include <stdio.h>\n",
    "#include <stdlib.h>\n",
    "\n",
    "void fill_fibonacci(int n, int* b)\n",
    "{\n",
    "    b[0] = 1;\n",
    "    b[1] = 1;\n",
    "    for(int i = 2; i < n; i++)\n",
    "    {\n",
    "        b[i] = b[i-1] + b[i-2];\n",
    "    }    \n",
    "}\n",
    "\n",
    "int main(int argc, char* argv)\n",
    "{\n",
    "    int *a; \n",
    "    \n",
    "    a = malloc(10*sizeof(int));\n",
    "    \n",
    "    fill_fibonacci(10,a);\n",
    "    \n",
    "    for(int i = 0; i < 10; i++)\n",
    "    {\n",
    "        printf(\"a[%d] = %d\\n\",i,a[i]);\n",
    "    }\n",
    "    \n",
    "    free(a);\n",
    "    \n",
    "    return 0;\n",
    "}"
   ]
  },
  {
   "cell_type": "code",
   "execution_count": null,
   "metadata": {},
   "outputs": [],
   "source": [
    "%%bash\n",
    "gcc -o c_demo12 c_demo12.c\n",
    "c_demo12"
   ]
  },
  {
   "cell_type": "markdown",
   "metadata": {},
   "source": [
    "<hr style=\"border-width:4px; border-color:coral; border-style:solid\"</hr>\n",
    "\n",
    "## (13) Dynamically allocated empty array\n",
    "\n",
    "We can allow the calling function to allocate memory as well, by using '**'."
   ]
  },
  {
   "cell_type": "code",
   "execution_count": null,
   "metadata": {},
   "outputs": [],
   "source": [
    "%%file c_demo13.c\n",
    "#include <stdio.h>\n",
    "#include <stdlib.h>\n",
    "\n",
    "void empty_array(int n, double **x)\n",
    "{\n",
    "    *x = malloc(n*sizeof(double));\n",
    "}\n",
    "\n",
    "void delete_array(void** x)\n",
    "{\n",
    "    free((void*) *x);\n",
    "}\n",
    "\n",
    "int main(int argc, char* argv)\n",
    "{\n",
    "    int *a; \n",
    "    double *x;\n",
    "    \n",
    "    empty_array(10,&x);\n",
    "    \n",
    "    for(int i = 0; i < 10; i++)\n",
    "    {\n",
    "        printf(\"x[%d] = %g\\n\",i,x[i]);\n",
    "    }\n",
    "    \n",
    "    delete_array((void**) &x);\n",
    "    return 0;\n",
    "}"
   ]
  },
  {
   "cell_type": "code",
   "execution_count": null,
   "metadata": {},
   "outputs": [],
   "source": [
    "%%bash\n",
    "gcc -o c_demo13 c_demo13.c\n",
    "c_demo13"
   ]
  },
  {
   "cell_type": "markdown",
   "metadata": {},
   "source": [
    "<hr style=\"border-width:4px; border-color:coral; border-style:solid\"</hr>\n",
    "\n",
    "## (14) Dynamically allocated arrays with values\n",
    "\n",
    "We can create an empty array and fill it with values before returning to the calling routine."
   ]
  },
  {
   "cell_type": "code",
   "execution_count": null,
   "metadata": {},
   "outputs": [],
   "source": [
    "%%file c_demo14.c\n",
    "#include <stdio.h>\n",
    "#include <stdlib.h>\n",
    "#include <math.h>\n",
    "\n",
    "void constant_array(int n, double **x,double value)\n",
    "{\n",
    "    *x = malloc(n*sizeof(double));\n",
    "    for(int i = 0; i < n; i++)\n",
    "    {\n",
    "        (*x)[i] = value;\n",
    "    }\n",
    "}\n",
    "\n",
    "void delete_array(void** x)\n",
    "{\n",
    "    free(*x);\n",
    "    *x = NULL;\n",
    "}\n",
    "\n",
    "int main(int argc, char* argv)\n",
    "{\n",
    "    int *a; \n",
    "    double *x;\n",
    "    double pi = 4.0*atan(1.0);\n",
    "    \n",
    "    constant_array(10,&x,pi);\n",
    "    \n",
    "    for(int i = 0; i < 10; i++)\n",
    "    {\n",
    "        printf(\"x[%d] = %18.16f\\n\",i,x[i]);\n",
    "    }\n",
    "    \n",
    "    delete_array((void**) &x);\n",
    "    return 0;\n",
    "}"
   ]
  },
  {
   "cell_type": "code",
   "execution_count": null,
   "metadata": {},
   "outputs": [],
   "source": [
    "%%bash\n",
    "gcc -o c_demo14 c_demo14.c\n",
    "c_demo14"
   ]
  },
  {
   "cell_type": "markdown",
   "metadata": {},
   "source": [
    "<hr style=\"border-width:4px; border-color:coral; border-style:solid\"</hr>\n",
    "\n",
    "## Exercises (1)\n",
    "\n",
    "Write a function that mimics the 'linspace' command in Matlab. \n",
    "\n",
    "     double *x;\n",
    "     int a = 0; \n",
    "     int b = 1; \n",
    "     int n = 10;\n",
    "     linspace_array(a,b,n+1,&x);\n",
    "     \n",
    "     x = [0, 0.1, 0.2, ..., 1.0]"
   ]
  },
  {
   "cell_type": "code",
   "execution_count": null,
   "metadata": {},
   "outputs": [],
   "source": [
    "%%file c_ex1.c\n",
    "#include <stdio.h>\n",
    "#include <stdlib.h>\n",
    "#include <math.h>\n",
    "\n",
    "int main(int argc, char* argv)\n",
    "{\n",
    "    /* Your code goes here */\n",
    "    return 0; \n",
    "}"
   ]
  },
  {
   "cell_type": "code",
   "execution_count": null,
   "metadata": {},
   "outputs": [],
   "source": [
    "%%bash\n",
    "gcc -o c_ex1 c_ex1.c\n",
    "c_ex1"
   ]
  },
  {
   "cell_type": "markdown",
   "metadata": {},
   "source": [
    "<hr style=\"border-width:4px; border-color:coral; border-style:solid\"</hr>\n",
    "\n",
    "## Exercises (2)\n",
    "\n",
    "Write a function that takes an array and returns the sum of the entries.  "
   ]
  },
  {
   "cell_type": "code",
   "execution_count": null,
   "metadata": {},
   "outputs": [],
   "source": []
  }
 ],
 "metadata": {
  "kernelspec": {
   "display_name": "Python 3",
   "language": "python",
   "name": "python3"
  },
  "language_info": {
   "codemirror_mode": {
    "name": "ipython",
    "version": 3
   },
   "file_extension": ".py",
   "mimetype": "text/x-python",
   "name": "python",
   "nbconvert_exporter": "python",
   "pygments_lexer": "ipython3",
   "version": "3.7.4"
  }
 },
 "nbformat": 4,
 "nbformat_minor": 2
}
