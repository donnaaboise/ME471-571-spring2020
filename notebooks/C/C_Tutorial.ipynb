{
 "cells": [
  {
   "cell_type": "markdown",
   "metadata": {},
   "source": [
    "# C Tutorial\n",
    "\n",
    "The following series of simple functions should give you an idea as to how to use pointer variables, statically allocated arrays and dynamically allocated arrays. "
   ]
  },
  {
   "cell_type": "markdown",
   "metadata": {},
   "source": [
    "<hr style=\"border-width:4px; border-color:coral; border-style:solid\"</hr>\n",
    "\n",
    "## Hello, World!\n",
    "\n",
    "We can use Jupyter notebooks to compile and run simple C programs. "
   ]
  },
  {
   "cell_type": "code",
   "execution_count": 1,
   "metadata": {},
   "outputs": [
    {
     "name": "stdout",
     "output_type": "stream",
     "text": [
      "Writing c_demo0.c\n"
     ]
    }
   ],
   "source": [
    "%%file c_demo0.c\n",
    "#include <stdio.h>\n",
    "\n",
    "int main(int argc, char** argv)\n",
    "{\n",
    "    printf(\"Greetings from Jupyter!\\n\");\n",
    "}"
   ]
  },
  {
   "cell_type": "code",
   "execution_count": 2,
   "metadata": {},
   "outputs": [
    {
     "name": "stdout",
     "output_type": "stream",
     "text": [
      "Greetings from Jupyter!\n"
     ]
    }
   ],
   "source": [
    "%%bash\n",
    "\n",
    "rm -rf c_demo0\n",
    "\n",
    "gcc -o c_demo0 c_demo0.c\n",
    "\n",
    "c_demo0\n"
   ]
  },
  {
   "cell_type": "markdown",
   "metadata": {},
   "source": [
    "<hr style=\"border-width:4px; border-color:coral; border-style:solid\"</hr>\n",
    "\n",
    "## (1) Passing scalars to functions by value\n",
    "\n",
    "A simple function in C can take arguments \"by value\"."
   ]
  },
  {
   "cell_type": "code",
   "execution_count": 3,
   "metadata": {},
   "outputs": [
    {
     "name": "stdout",
     "output_type": "stream",
     "text": [
      "Writing c_demo1.c\n"
     ]
    }
   ],
   "source": [
    "%%file c_demo1.c\n",
    "#include <stdio.h>\n",
    "\n",
    "double scalar_multiply(int a, double x)\n",
    "{\n",
    "    return a*x;\n",
    "}\n",
    "\n",
    "int main(int argc, char** argv)\n",
    "{\n",
    "    /* Data types */\n",
    "    int a = 2; \n",
    "    double x = 1.14;\n",
    "    \n",
    "    double z = scalar_multiply(a,x); \n",
    "    \n",
    "    printf(\"z = %g\\n\",z);\n",
    "    \n",
    "    return 0;\n",
    "}\n"
   ]
  },
  {
   "cell_type": "code",
   "execution_count": 4,
   "metadata": {},
   "outputs": [
    {
     "name": "stdout",
     "output_type": "stream",
     "text": [
      "z = 2.28\n"
     ]
    }
   ],
   "source": [
    "%%bash \n",
    "\n",
    "rm -rf c_demo1\n",
    "\n",
    "gcc -o c_demo1 c_demo1.c\n",
    "\n",
    "c_demo1"
   ]
  },
  {
   "cell_type": "markdown",
   "metadata": {},
   "source": [
    "<hr style=\"border-width:4px; border-color:coral; border-style:solid\"</hr>\n",
    "\n",
    "## (2) Memory addresses\n",
    "Use the '&' to get the address location of a variable in memory. "
   ]
  },
  {
   "cell_type": "code",
   "execution_count": 5,
   "metadata": {},
   "outputs": [
    {
     "name": "stdout",
     "output_type": "stream",
     "text": [
      "Writing c_demo2.c\n"
     ]
    }
   ],
   "source": [
    "%%file c_demo2.c\n",
    "#include <stdio.h>\n",
    "\n",
    "int main(int argc, char** argv)\n",
    "{\n",
    "    /* Data types */\n",
    "    int a;\n",
    "    double x; \n",
    "    \n",
    "    a = 2; \n",
    "    x = 1.14;\n",
    "\n",
    "    printf(\"Address location of a :  = %p\\n\",&a);\n",
    "    printf(\"Address location of x :  = %p\\n\",&x);\n",
    "    \n",
    "    return 0;\n",
    "}"
   ]
  },
  {
   "cell_type": "code",
   "execution_count": 6,
   "metadata": {},
   "outputs": [
    {
     "name": "stdout",
     "output_type": "stream",
     "text": [
      "Address location of a :  = 0x7ffeeba1ffec\n",
      "Address location of x :  = 0x7ffeeba1ffe0\n"
     ]
    }
   ],
   "source": [
    "%%bash \n",
    "\n",
    "rm -rf c_demo2\n",
    "\n",
    "gcc -o c_demo2 c_demo2.c\n",
    "\n",
    "c_demo2"
   ]
  },
  {
   "cell_type": "markdown",
   "metadata": {},
   "source": [
    "<hr style=\"border-width:4px; border-color:coral; border-style:solid\"</hr>\n",
    "\n",
    "## (3) Storing memory addresses using pointer variables\n",
    "\n",
    "Use the '*' to declare variables that can store addresses. "
   ]
  },
  {
   "cell_type": "code",
   "execution_count": 7,
   "metadata": {},
   "outputs": [
    {
     "name": "stdout",
     "output_type": "stream",
     "text": [
      "Writing c_demo3.c\n"
     ]
    }
   ],
   "source": [
    "%%file c_demo3.c\n",
    "#include <stdio.h>\n",
    "\n",
    "int main(int argc, char** argv)\n",
    "{\n",
    "    /* Data types */\n",
    "    int a,*b;\n",
    "    double x, *y; \n",
    "    \n",
    "    a = 2; \n",
    "    x = 1.14;\n",
    "    \n",
    "    // Store address of `a` in pointer variable b\n",
    "    b = &a;    \n",
    "\n",
    "    // Store address of `x` in pointer variable y\n",
    "    y = &x;\n",
    "    \n",
    "    printf(\"Address location of a : %p\\n\",&a);\n",
    "    printf(\"Value of            b : %p\\n\",b);\n",
    "    printf(\"\\n\");\n",
    "    printf(\"Address location of x : %p\\n\",&x);\n",
    "    printf(\"Value of            y : %p\\n\",y);\n",
    "    return 0;\n",
    "}"
   ]
  },
  {
   "cell_type": "code",
   "execution_count": 8,
   "metadata": {},
   "outputs": [
    {
     "name": "stdout",
     "output_type": "stream",
     "text": [
      "Address location of a : 0x7ffeed102fdc\n",
      "Value of            b : 0x7ffeed102fdc\n",
      "\n",
      "Address location of x : 0x7ffeed102fd0\n",
      "Value of            y : 0x7ffeed102fd0\n"
     ]
    }
   ],
   "source": [
    "%%bash \n",
    "\n",
    "rm -rf c_demo3\n",
    "\n",
    "gcc -o c_demo3 c_demo3.c\n",
    "\n",
    "c_demo3"
   ]
  },
  {
   "cell_type": "markdown",
   "metadata": {},
   "source": [
    "<hr style=\"border-width:4px; border-color:coral; border-style:solid\"</hr>\n",
    "\n",
    "## (4) Dereferencing pointer variables\n",
    "\n",
    "Use the '*' to dereference a memory address and obtain the value stored at that address. "
   ]
  },
  {
   "cell_type": "code",
   "execution_count": 9,
   "metadata": {},
   "outputs": [
    {
     "name": "stdout",
     "output_type": "stream",
     "text": [
      "Writing c_demo4.c\n"
     ]
    }
   ],
   "source": [
    "%%file c_demo4.c\n",
    "#include <stdio.h>\n",
    "\n",
    "int main(int argc, char** argv)\n",
    "{\n",
    "    /* Data types */\n",
    "    int a, *b;\n",
    "    double x, *y; \n",
    "    \n",
    "    b = &a;\n",
    "    y = &x;\n",
    "\n",
    "    a = 2; \n",
    "    x = 1.14;\n",
    "    printf(\"value stored at b :  = %d\\n\",*b);\n",
    "    printf(\"value stored at y :  = %g\\n\",*y);\n",
    "    printf(\"\\n\");\n",
    "    \n",
    "    a = -4;\n",
    "    x = 3.14159;\n",
    "    printf(\"new value stored at b :  = %d\\n\",*b);\n",
    "    printf(\"new value stored at y :  = %g\\n\",*y);\n",
    "\n",
    "    \n",
    "    return 0;\n",
    "}"
   ]
  },
  {
   "cell_type": "code",
   "execution_count": 10,
   "metadata": {},
   "outputs": [
    {
     "name": "stdout",
     "output_type": "stream",
     "text": [
      "value stored at b :  = 2\n",
      "value stored at y :  = 1.14\n",
      "\n",
      "new value stored at b :  = -4\n",
      "new value stored at y :  = 3.14159\n"
     ]
    }
   ],
   "source": [
    "%%bash \n",
    "\n",
    "rm -rf c_demo4\n",
    "\n",
    "gcc -o c_demo4  c_demo4.c\n",
    "\n",
    "c_demo4"
   ]
  },
  {
   "cell_type": "markdown",
   "metadata": {},
   "source": [
    "<hr style=\"border-width:4px; border-color:coral; border-style:solid\"</hr>\n",
    "\n",
    "## (5) Passing values by reference\n",
    "\n",
    "We can use pointer variables to return the result of the function in an argument that is passed by reference. "
   ]
  },
  {
   "cell_type": "code",
   "execution_count": 11,
   "metadata": {},
   "outputs": [
    {
     "name": "stdout",
     "output_type": "stream",
     "text": [
      "Writing c_demo5.c\n"
     ]
    }
   ],
   "source": [
    "%%file c_demo5.c\n",
    "#include <stdio.h>\n",
    "\n",
    "void scalar_multiply(int a, double x, double *z)\n",
    "{\n",
    "    *z = a*x;\n",
    "}\n",
    "\n",
    "int main(int argc, char** argv)\n",
    "{\n",
    "    /* Data types */\n",
    "    int a;\n",
    "    double x, z; \n",
    "    \n",
    "    a = 2; \n",
    "    x = 1.14;    \n",
    "    scalar_multiply(a,x,&z); \n",
    "    \n",
    "    printf(\"z = %g\\n\",z);\n",
    "    \n",
    "    return 0;\n",
    "}"
   ]
  },
  {
   "cell_type": "code",
   "execution_count": 12,
   "metadata": {},
   "outputs": [
    {
     "name": "stdout",
     "output_type": "stream",
     "text": [
      "z = 2.28\n"
     ]
    }
   ],
   "source": [
    "%%bash\n",
    "\n",
    "rm -rf c_demo5\n",
    "\n",
    "gcc -o c_demo5 c_demo5.c\n",
    "\n",
    "c_demo5"
   ]
  },
  {
   "cell_type": "markdown",
   "metadata": {},
   "source": [
    "<hr style=\"border-width:4px; border-color:coral; border-style:solid\"</hr>\n",
    "\n",
    "## (6) Static arrays\n",
    "\n",
    "Static arrays are allocated at compile time.   Variable lengths not allowed when declaring static arrays. "
   ]
  },
  {
   "cell_type": "code",
   "execution_count": 13,
   "metadata": {},
   "outputs": [
    {
     "name": "stdout",
     "output_type": "stream",
     "text": [
      "Writing c_demo6.c\n"
     ]
    }
   ],
   "source": [
    "%%file c_demo6.c\n",
    "#include <stdio.h>\n",
    "\n",
    "int main(int argc, char** argv)\n",
    "{\n",
    "    /* Data types */\n",
    "    int a[5];\n",
    "    double x[3]; \n",
    "\n",
    "    for(int i = 0; i < 5; i++)\n",
    "    {\n",
    "        a[i] = i;\n",
    "    }\n",
    "    \n",
    "    for(int i = 0; i < 3; i++)\n",
    "    {\n",
    "        x[i]= i*3.14159;\n",
    "    }\n",
    "    \n",
    "    printf(\"a[2]*x[2] = %g\\n\",a[2]*x[2]);\n",
    "    \n",
    "    /* No bounds checking! */\n",
    "    printf(\"Uh oh .... x[5] = %24.16e\\n\",x[5]);  /* Behavior is undefined; could seg. fault */\n",
    "    \n",
    "    return 0;\n",
    "}"
   ]
  },
  {
   "cell_type": "code",
   "execution_count": 14,
   "metadata": {},
   "outputs": [
    {
     "name": "stdout",
     "output_type": "stream",
     "text": [
      "a[2]*x[2] = 12.5664\n",
      "Uh oh .... x[5] =  6.3659873738839482e-314\n"
     ]
    }
   ],
   "source": [
    "%%bash \n",
    "\n",
    "rm -rf c_demo6\n",
    "\n",
    "gcc -o c_demo6 c_demo6.c\n",
    "\n",
    "c_demo6"
   ]
  },
  {
   "cell_type": "markdown",
   "metadata": {},
   "source": [
    "<hr style=\"border-width:4px; border-color:coral; border-style:solid\"</hr>\n",
    "\n",
    "## (7) Pointer variables and static arrays (version 1)\n",
    "\n",
    "Static arrays have addresses, and entries can be referenced and dereferenced. \n",
    "Pointers can point be used to dereference entries of a static array.  When used in this way, pointer variables are dereferenced exactly like arrays. "
   ]
  },
  {
   "cell_type": "code",
   "execution_count": 15,
   "metadata": {},
   "outputs": [
    {
     "name": "stdout",
     "output_type": "stream",
     "text": [
      "Writing c_demo7.c\n"
     ]
    }
   ],
   "source": [
    "%%file c_demo7.c\n",
    "#include <stdio.h>\n",
    "\n",
    "int main(int argc, char** argv)\n",
    "{\n",
    "    /* Data types */\n",
    "    int a[5], *b;\n",
    "    double x[3], *y; \n",
    "\n",
    "    b = &a[0];  /* Point to first entry of a */\n",
    "    y = &x[0];  /* Point to first entry of x */\n",
    "    \n",
    "    for(int i = 0; i < 5; i++)\n",
    "    {\n",
    "        a[i] = i;\n",
    "    }\n",
    "    \n",
    "    for(int i = 0; i < 3; i++)\n",
    "    {\n",
    "        x[i]= i*3.14159;\n",
    "    }\n",
    "    \n",
    "    printf(\"a[3] = %d\\n\",a[3]);\n",
    "    printf(\"b[3] = %d\\n\",b[3]);\n",
    "    printf(\"\\n\");\n",
    "    printf(\"x[2] = %g\\n\",x[2]);    \n",
    "    printf(\"y[2] = %g\\n\",y[2]);\n",
    "    \n",
    "    return 0;\n",
    "}"
   ]
  },
  {
   "cell_type": "code",
   "execution_count": 16,
   "metadata": {},
   "outputs": [
    {
     "name": "stdout",
     "output_type": "stream",
     "text": [
      "a[3] = 3\n",
      "b[3] = 3\n",
      "\n",
      "x[2] = 6.28318\n",
      "y[2] = 6.28318\n"
     ]
    }
   ],
   "source": [
    "%%bash \n",
    "\n",
    "rm -rf c_demo7\n",
    "\n",
    "gcc -o c_demo7 c_demo7.c\n",
    "\n",
    "c_demo7"
   ]
  },
  {
   "cell_type": "markdown",
   "metadata": {},
   "source": [
    "<hr style=\"border-width:4px; border-color:coral; border-style:solid\"</hr>\n",
    "\n",
    "## (8) Pointer variables and static arrays (version 2)\n",
    "\n",
    "Static variables are themselves an \"addresses\" and so their value is in fact an address and be assigned directly to a pointer array."
   ]
  },
  {
   "cell_type": "code",
   "execution_count": 17,
   "metadata": {},
   "outputs": [
    {
     "name": "stdout",
     "output_type": "stream",
     "text": [
      "Writing c_demo8.c\n"
     ]
    }
   ],
   "source": [
    "%%file c_demo8.c\n",
    "#include <stdio.h>\n",
    "\n",
    "#define N 10\n",
    "\n",
    "int main(int argc, char** argv)\n",
    "{\n",
    "    /* Data types */\n",
    "    int a[5], c[1], *b;\n",
    "    double x[3], *y; \n",
    "\n",
    "    b = a;     \n",
    "    y = x;\n",
    "    c[0] = 5;\n",
    "    \n",
    "    int n = 10;\n",
    "    double z[n];\n",
    "    z[0] = 4.3;\n",
    "    \n",
    "    for(int i = 0; i < N; i++)\n",
    "    {\n",
    "        z[i] = i;\n",
    "    }\n",
    "    \n",
    "    b = c;  \n",
    "    \n",
    "    a[0] = 3;\n",
    "    x[0] = -5.6;\n",
    "    \n",
    "    printf(\"b[0] = %d\\n\",b[0]);\n",
    "    printf(\"y[0] = %g\\n\",y[0]);\n",
    "    printf(\"z[9] = %g\\n\",z[9]);\n",
    "    printf(\"b     = %p\\n\",b);\n",
    "    printf(\"&z[9] = %p\\n\",&z[9]);\n",
    "    \n",
    "    return 0;\n",
    "}"
   ]
  },
  {
   "cell_type": "code",
   "execution_count": 18,
   "metadata": {},
   "outputs": [
    {
     "name": "stdout",
     "output_type": "stream",
     "text": [
      "b[0] = 5\n",
      "y[0] = -5.6\n",
      "z[9] = 9\n",
      "b     = 0x7ffee1731f8c\n",
      "&z[9] = 0x7ffee1731f58\n"
     ]
    }
   ],
   "source": [
    "%%bash\n",
    "\n",
    "rm -rf c_demo8\n",
    "\n",
    "gcc -o c_demo8 c_demo8.c\n",
    "\n",
    "c_demo8"
   ]
  },
  {
   "cell_type": "markdown",
   "metadata": {},
   "source": [
    "<hr style=\"border-width:4px; border-color:coral; border-style:solid\"</hr>\n",
    "\n",
    "## (9) Pointer arithmetic"
   ]
  },
  {
   "cell_type": "code",
   "execution_count": 19,
   "metadata": {},
   "outputs": [
    {
     "name": "stdout",
     "output_type": "stream",
     "text": [
      "Writing c_demo9.c\n"
     ]
    }
   ],
   "source": [
    "%%file c_demo9.c\n",
    "#include <stdio.h>\n",
    "\n",
    "int main(int argc, char** argv)\n",
    "{\n",
    "    /* Data types */\n",
    "    int a[10], *b;\n",
    "\n",
    "    a[0] = 1;\n",
    "    a[1] = 1;\n",
    "    for(int i = 2; i < 10; i++)\n",
    "    {\n",
    "        a[i] = a[i-1] + a[i-2];\n",
    "    }    \n",
    "    b = a + 6;     /* (:-)) */\n",
    "    \n",
    "    printf(\"b[0] = %d\\n\",b[0]);\n",
    "    printf(\"*b = %d\\n\",*b);\n",
    "    printf(\"*(b+1) = %d\\n\",*(b+1));\n",
    "    \n",
    "    return 0;\n",
    "}"
   ]
  },
  {
   "cell_type": "code",
   "execution_count": 20,
   "metadata": {},
   "outputs": [
    {
     "name": "stdout",
     "output_type": "stream",
     "text": [
      "b[0] = 13\n",
      "*b = 13\n",
      "*(b+1) = 21\n"
     ]
    }
   ],
   "source": [
    "%%bash\n",
    "\n",
    "rm -rf c_demo9\n",
    "\n",
    "gcc -o c_demo9 c_demo9.c\n",
    "\n",
    "c_demo9"
   ]
  },
  {
   "cell_type": "markdown",
   "metadata": {},
   "source": [
    "<hr style=\"border-width:4px; border-color:coral; border-style:solid\"</hr>\n",
    "\n",
    "## (10) Passing static arrays to functions"
   ]
  },
  {
   "cell_type": "code",
   "execution_count": 21,
   "metadata": {},
   "outputs": [
    {
     "name": "stdout",
     "output_type": "stream",
     "text": [
      "Writing c_demo10.c\n"
     ]
    }
   ],
   "source": [
    "%%file c_demo10.c\n",
    "#include <stdio.h>\n",
    "\n",
    "void fill_fibonacci(int n, int *b)    /* Or int b[] */\n",
    "{\n",
    "    b[0] = 1;\n",
    "    b[1] = 1;\n",
    "    for(int i = 2; i < n; i++)\n",
    "    {\n",
    "        b[i] = b[i-1] + b[i-2];\n",
    "    }    \n",
    "}\n",
    "\n",
    "int main(int argc, char** argv)\n",
    "{\n",
    "    /* Data types */\n",
    "    int a[10];\n",
    "        \n",
    "    fill_fibonacci(10,a);\n",
    "    \n",
    "    printf(\"a[7] = %d\\n\",a[7]);\n",
    "    \n",
    "    return 0;\n",
    "}"
   ]
  },
  {
   "cell_type": "code",
   "execution_count": 22,
   "metadata": {},
   "outputs": [
    {
     "name": "stdout",
     "output_type": "stream",
     "text": [
      "a[7] = 21\n"
     ]
    }
   ],
   "source": [
    "%%bash\n",
    "\n",
    "rm -rf c_demo10\n",
    "\n",
    "gcc -o c_demo10 c_demo10.c\n",
    "\n",
    "c_demo10"
   ]
  },
  {
   "cell_type": "markdown",
   "metadata": {},
   "source": [
    "<hr style=\"border-width:4px; border-color:coral; border-style:solid\"</hr>\n",
    "\n",
    "## (11) Size of data types\n",
    "\n",
    "Each data type has a size. This will be needed to dynamicallly allocate memory for arrays. "
   ]
  },
  {
   "cell_type": "code",
   "execution_count": 23,
   "metadata": {},
   "outputs": [
    {
     "name": "stdout",
     "output_type": "stream",
     "text": [
      "Writing c_demo11.c\n"
     ]
    }
   ],
   "source": [
    "%%file c_demo11.c\n",
    "#include <stdio.h>\n",
    "\n",
    "int main(int argc, char** argv)\n",
    "{\n",
    "    /* Data types */\n",
    "    printf(\"A 'char'       is %zu bytes\\n\",sizeof(char));\n",
    "    printf(\"A 'short int'  is %zu bytes\\n\",sizeof(short int));\n",
    "    printf(\"An 'int'       is %zu bytes\\n\",sizeof(int));\n",
    "    printf(\"A 'float'      is %zu bytes\\n\",sizeof(float));\n",
    "    printf(\"A 'long int'   is %zu bytes\\n\",sizeof(long int));\n",
    "    printf(\"A 'double'     is %zu bytes\\n\",sizeof(double));\n",
    "    printf(\"A 'pointer'    is %zu bytes\\n\",sizeof(void*));\n",
    "    \n",
    "    return 0;\n",
    "}"
   ]
  },
  {
   "cell_type": "code",
   "execution_count": 24,
   "metadata": {},
   "outputs": [
    {
     "name": "stdout",
     "output_type": "stream",
     "text": [
      "A 'char'       is 1 bytes\n",
      "A 'short int'  is 2 bytes\n",
      "An 'int'       is 4 bytes\n",
      "A 'float'      is 4 bytes\n",
      "A 'long int'   is 8 bytes\n",
      "A 'double'     is 8 bytes\n",
      "A 'pointer'    is 8 bytes\n"
     ]
    }
   ],
   "source": [
    "%%bash\n",
    "\n",
    "rm -rf c_demo11\n",
    "\n",
    "gcc -o c_demo11 c_demo11.c\n",
    "\n",
    "c_demo11"
   ]
  },
  {
   "cell_type": "markdown",
   "metadata": {},
   "source": [
    "<hr style=\"border-width:4px; border-color:coral; border-style:solid\"</hr>\n",
    "\n",
    "## (12) Dynamically allocated arrays\n",
    "\n",
    "We can allocate memory dynamically to get more flexible array sizes. We also have to be sure to delete the memory when we are done. "
   ]
  },
  {
   "cell_type": "code",
   "execution_count": 25,
   "metadata": {},
   "outputs": [
    {
     "name": "stdout",
     "output_type": "stream",
     "text": [
      "Writing c_demo12.c\n"
     ]
    }
   ],
   "source": [
    "%%file c_demo12.c\n",
    "#include <stdio.h>\n",
    "#include <stdlib.h>\n",
    "\n",
    "void fill_fibonacci(int n, int* b)\n",
    "{\n",
    "    b[0] = 1;\n",
    "    b[1] = 1;\n",
    "    for(int i = 2; i < n; i++)\n",
    "    {\n",
    "        b[i] = b[i-1] + b[i-2];\n",
    "    }    \n",
    "}\n",
    "\n",
    "int main(int argc, char** argv)\n",
    "{\n",
    "    int *a; \n",
    "    \n",
    "    int n = 20;\n",
    "    size_t bytes = n*sizeof(int);\n",
    "    a = malloc(bytes);\n",
    "    \n",
    "    fill_fibonacci(10,a);\n",
    "    \n",
    "    for(int i = 0; i < 10; i++)\n",
    "    {\n",
    "        printf(\"a[%d] = %d\\n\",i,a[i]);\n",
    "    }\n",
    "    \n",
    "    free(a);\n",
    "    return 0;\n",
    "}"
   ]
  },
  {
   "cell_type": "code",
   "execution_count": 26,
   "metadata": {},
   "outputs": [
    {
     "name": "stdout",
     "output_type": "stream",
     "text": [
      "a[0] = 1\n",
      "a[1] = 1\n",
      "a[2] = 2\n",
      "a[3] = 3\n",
      "a[4] = 5\n",
      "a[5] = 8\n",
      "a[6] = 13\n",
      "a[7] = 21\n",
      "a[8] = 34\n",
      "a[9] = 55\n"
     ]
    }
   ],
   "source": [
    "%%bash\n",
    "\n",
    "rm -rf c_demo12\n",
    "\n",
    "gcc -o c_demo12 c_demo12.c\n",
    "\n",
    "c_demo12"
   ]
  },
  {
   "cell_type": "markdown",
   "metadata": {},
   "source": [
    "<hr style=\"border-width:4px; border-color:coral; border-style:solid\"</hr>\n",
    "\n",
    "## (13) Dynamically allocated empty array\n",
    "\n",
    "We can allow the calling function to allocate memory as well, by using '**'."
   ]
  },
  {
   "cell_type": "code",
   "execution_count": 27,
   "metadata": {},
   "outputs": [
    {
     "name": "stdout",
     "output_type": "stream",
     "text": [
      "Writing c_demo13.c\n"
     ]
    }
   ],
   "source": [
    "%%file c_demo13.c\n",
    "#include <stdio.h>\n",
    "#include <stdlib.h>\n",
    "\n",
    "void empty_array(int n, double *x[])\n",
    "{\n",
    "    *x = malloc(n*sizeof(double));\n",
    "}\n",
    "\n",
    "int main(int argc, char** argv)\n",
    "{\n",
    "    int *a; \n",
    "    double *x;\n",
    "    \n",
    "    empty_array(10,&x);\n",
    "    \n",
    "    for(int i = 0; i < 10; i++)\n",
    "    {\n",
    "        printf(\"x[%d] = %g\\n\",i,x[i]);\n",
    "    }\n",
    "    \n",
    "    free(x);\n",
    "    return 0;\n",
    "}"
   ]
  },
  {
   "cell_type": "code",
   "execution_count": 28,
   "metadata": {},
   "outputs": [
    {
     "name": "stdout",
     "output_type": "stream",
     "text": [
      "x[0] = 1.72723e-77\n",
      "x[1] = 1.72723e-77\n",
      "x[2] = 6.95329e-310\n",
      "x[3] = 6.95324e-310\n",
      "x[4] = 6.95329e-310\n",
      "x[5] = 6.95324e-310\n",
      "x[6] = 0\n",
      "x[7] = 0\n",
      "x[8] = 0\n",
      "x[9] = 0\n"
     ]
    }
   ],
   "source": [
    "%%bash\n",
    "\n",
    "rm -rf c_demo13\n",
    "\n",
    "gcc -o c_demo13 c_demo13.c\n",
    "\n",
    "c_demo13"
   ]
  },
  {
   "cell_type": "markdown",
   "metadata": {},
   "source": [
    "<hr style=\"border-width:4px; border-color:coral; border-style:solid\"</hr>\n",
    "\n",
    "## (14) Dynamically allocated arrays with values\n",
    "\n",
    "We can create an empty array and fill it with values before returning to the calling routine."
   ]
  },
  {
   "cell_type": "code",
   "execution_count": 29,
   "metadata": {},
   "outputs": [
    {
     "name": "stdout",
     "output_type": "stream",
     "text": [
      "Writing c_demo14.c\n"
     ]
    }
   ],
   "source": [
    "%%file c_demo14.c\n",
    "#include <stdio.h>\n",
    "#include <stdlib.h>\n",
    "#include <math.h>\n",
    "\n",
    "void constant_array(int n, double **x, double value)\n",
    "{\n",
    "    *x = malloc(n*sizeof(double));\n",
    "    for(int i = 0; i < n; i++)\n",
    "    {\n",
    "        (*x)[i] = value;\n",
    "    }\n",
    "}\n",
    "\n",
    "int main(int argc, char** argv)\n",
    "{\n",
    "    int *a; \n",
    "    double *x;\n",
    "    double pi = 4.0*atan(1.0);\n",
    "    \n",
    "    constant_array(10,&x,pi);\n",
    "    \n",
    "    for(int i = 0; i < 10; i++)\n",
    "    {\n",
    "        printf(\"x[%d] = %18.16f\\n\",i,x[i]);\n",
    "    }\n",
    "    \n",
    "    free(x);\n",
    "    \n",
    "    printf(\"x = %p\\n\",x);\n",
    "    return 0;\n",
    "}"
   ]
  },
  {
   "cell_type": "code",
   "execution_count": 30,
   "metadata": {},
   "outputs": [
    {
     "name": "stdout",
     "output_type": "stream",
     "text": [
      "x[0] = 3.1415926535897931\n",
      "x[1] = 3.1415926535897931\n",
      "x[2] = 3.1415926535897931\n",
      "x[3] = 3.1415926535897931\n",
      "x[4] = 3.1415926535897931\n",
      "x[5] = 3.1415926535897931\n",
      "x[6] = 3.1415926535897931\n",
      "x[7] = 3.1415926535897931\n",
      "x[8] = 3.1415926535897931\n",
      "x[9] = 3.1415926535897931\n",
      "x = 0x7fe93cc02be0\n"
     ]
    }
   ],
   "source": [
    "%%bash\n",
    "\n",
    "rm -rf c_demo14\n",
    "\n",
    "gcc -o c_demo14 c_demo14.c\n",
    "\n",
    "c_demo14"
   ]
  },
  {
   "cell_type": "markdown",
   "metadata": {},
   "source": [
    "<hr style=\"border-width:4px; border-color:coral; border-style:solid\"</hr>\n",
    "\n",
    "## (15) An alternative to the '*' and '**' in argument lists\n",
    "\n",
    "If you find the '**' notation unpleasant, you can also do the following. "
   ]
  },
  {
   "cell_type": "code",
   "execution_count": 31,
   "metadata": {},
   "outputs": [
    {
     "name": "stdout",
     "output_type": "stream",
     "text": [
      "Writing c_demo15.c\n"
     ]
    }
   ],
   "source": [
    "%%file c_demo15.c\n",
    "#include <stdio.h>\n",
    "#include <stdlib.h>\n",
    "\n",
    "void empty_array(int n, double *x[])\n",
    "{\n",
    "    *x = malloc(n*sizeof(double));\n",
    "}\n",
    "\n",
    "int main(int argc, char** argv)\n",
    "{\n",
    "    int *a; \n",
    "    double *x;\n",
    "    \n",
    "    empty_array(10,&x);\n",
    "    \n",
    "    for(int i = 0; i < 10; i++)\n",
    "    {\n",
    "        printf(\"x[%d] = %g\\n\",i,x[i]);\n",
    "    }\n",
    "    \n",
    "    free(x);\n",
    "    return 0;\n",
    "}"
   ]
  },
  {
   "cell_type": "code",
   "execution_count": 32,
   "metadata": {},
   "outputs": [
    {
     "name": "stdout",
     "output_type": "stream",
     "text": [
      "x[0] = 0\n",
      "x[1] = 0\n",
      "x[2] = 6.95329e-310\n",
      "x[3] = 6.95324e-310\n",
      "x[4] = 6.95329e-310\n",
      "x[5] = 6.95324e-310\n",
      "x[6] = 0\n",
      "x[7] = 0\n",
      "x[8] = 0\n",
      "x[9] = 0\n"
     ]
    }
   ],
   "source": [
    "%%bash\n",
    "\n",
    "rm -rf c_demo15\n",
    "\n",
    "gcc -o c_demo15 c_demo15.c\n",
    "\n",
    "c_demo15"
   ]
  },
  {
   "cell_type": "markdown",
   "metadata": {},
   "source": [
    "<hr style=\"border-width:4px; border-color:coral; border-style:solid\"</hr>\n",
    "\n",
    "## (16) Allocating 2d arrays (short ints)\n",
    "\n",
    "We can allocate a variable length array to a list of statically allocated arrays. "
   ]
  },
  {
   "cell_type": "code",
   "execution_count": 33,
   "metadata": {},
   "outputs": [
    {
     "name": "stdout",
     "output_type": "stream",
     "text": [
      "Writing c_demo16.c\n"
     ]
    }
   ],
   "source": [
    "%%file c_demo16.c\n",
    "#include <stdio.h>\n",
    "#include <stdlib.h>\n",
    "\n",
    "int main(int argc, char** argv)\n",
    "{\n",
    "    int n = 4;\n",
    "    \n",
    "    float (*rgb)[3];\n",
    "    rgb = malloc(n*sizeof(void*));\n",
    "    for(int i = 0; i < n; i++)\n",
    "    {\n",
    "        printf(\"%p\",rgb[i]);\n",
    "        if (i > 0)\n",
    "            printf(\"%8d short ints\\n\",rgb[i]-rgb[i-1]);\n",
    "        else\n",
    "            printf(\"\\n\");\n",
    "    }    \n",
    "    free(rgb);\n",
    "    return 0;\n",
    "}"
   ]
  },
  {
   "cell_type": "code",
   "execution_count": 34,
   "metadata": {},
   "outputs": [
    {
     "name": "stdout",
     "output_type": "stream",
     "text": [
      "0x7fc51a400640\n",
      "0x7fc51a40064c       3 short ints\n",
      "0x7fc51a400658       3 short ints\n",
      "0x7fc51a400664       3 short ints\n"
     ]
    }
   ],
   "source": [
    "%%bash\n",
    "\n",
    "rm -rf c_demo16\n",
    "\n",
    "gcc -o c_demo16 c_demo16.c\n",
    "\n",
    "c_demo16"
   ]
  },
  {
   "cell_type": "markdown",
   "metadata": {},
   "source": [
    "Looking at the addresses `rgb[i]`, we see that they are spaced exactly 6 bytes apart, which is exactly 3 times `sizeof(short int)`.   "
   ]
  },
  {
   "cell_type": "code",
   "execution_count": null,
   "metadata": {},
   "outputs": [],
   "source": [
    "# addresses of starting positions of entries rgb[i] \n",
    "# Addresses from above may differ from those below; cut and paste the addresses you get\n",
    "addresses = ['0x7fbde5d001a0', '0x7fbde5d001a6', '0x7fbde5d001ac','0x7fbde5d001b2']\n",
    "dec = [int(s,16) for s in addresses]\n",
    "dec"
   ]
  },
  {
   "cell_type": "code",
   "execution_count": null,
   "metadata": {},
   "outputs": [],
   "source": [
    "# Addresses are exactly 3 \"short ints\" apart, or 3*(2 bytes) = 6\n",
    "n = 4\n",
    "diff = [dec[i+1]-dec[i] for i in range(n-1)]\n",
    "diff"
   ]
  },
  {
   "cell_type": "markdown",
   "metadata": {},
   "source": [
    "<hr style=\"border-width:4px; border-color:coral; border-style:solid\"</hr>\n",
    "\n",
    "## (17) Allocating 2d arrays (floats)\n",
    "\n",
    "We can allocate a variable length array to a list of statically allocated arrays. "
   ]
  },
  {
   "cell_type": "code",
   "execution_count": 35,
   "metadata": {},
   "outputs": [
    {
     "name": "stdout",
     "output_type": "stream",
     "text": [
      "Writing c_demo17.c\n"
     ]
    }
   ],
   "source": [
    "%%file c_demo17.c\n",
    "#include <stdio.h>\n",
    "#include <stdlib.h>\n",
    "\n",
    "int main(int argc, char** argv)\n",
    "{\n",
    "    int n = 4;\n",
    "    \n",
    "    float (*matrix)[10];\n",
    "    matrix = malloc(n*sizeof(void*));\n",
    "    for(int i = 0; i < n; i++)\n",
    "    {\n",
    "        printf(\"%p\",matrix[i]);\n",
    "        if (i > 0)\n",
    "            printf(\"%8d floats\\n\",matrix[i]-matrix[i-1]);\n",
    "        else\n",
    "            printf(\"\\n\");\n",
    "    }\n",
    "    free(matrix);\n",
    "    return 0;\n",
    "}"
   ]
  },
  {
   "cell_type": "code",
   "execution_count": 36,
   "metadata": {},
   "outputs": [
    {
     "name": "stdout",
     "output_type": "stream",
     "text": [
      "0x7fe48ec00640\n",
      "0x7fe48ec00668      10 floats\n",
      "0x7fe48ec00690      10 floats\n",
      "0x7fe48ec006b8      10 floats\n"
     ]
    }
   ],
   "source": [
    "%%bash\n",
    "\n",
    "rm -rf c_demo17\n",
    "\n",
    "gcc -o c_demo17 c_demo17.c\n",
    "\n",
    "c_demo17"
   ]
  },
  {
   "cell_type": "markdown",
   "metadata": {},
   "source": [
    "<hr style=\"border-width:4px; border-color:coral; border-style:solid\"</hr>\n",
    "\n",
    "## Exercises (1)\n",
    "\n",
    "Write a function that mimics the 'linspace' command in Matlab. \n",
    "\n",
    "     double *x;\n",
    "     int a = 0; \n",
    "     int b = 1; \n",
    "     int n = 10;\n",
    "     linspace(a,b,n+1,&x);\n",
    "     \n",
    "The linspace routine should return an array $x_i, i = 1, ..., N$, where\n",
    "\n",
    "\\begin{equation*}\n",
    "x_i = a + i h, \\quad h = (b-a)/(N-1)\n",
    "\\end{equation*}\n",
    "     \n",
    "For $a = 0$, $b = 1$, $N = 11$, the routine should return     \n",
    "     \n",
    "     x = [0, 0.1, 0.2, 0.3, 0.4, 0.5, 0.6, 0.7, 0.8, 0.9, 1.0]"
   ]
  },
  {
   "cell_type": "code",
   "execution_count": null,
   "metadata": {},
   "outputs": [],
   "source": [
    "%%file c_ex1.c\n",
    "#include <stdio.h>\n",
    "#include <stdlib.h>\n",
    "#include <math.h>\n",
    "\n",
    "void linspace(int a, int b, int N, double* x[])\n",
    "{\n",
    "    /* Define linspace here:  */ \n",
    "}\n",
    "\n",
    "int main(int argc, char** argv)\n",
    "{\n",
    "    /* Your code goes here */\n",
    "    return 0; \n",
    "}"
   ]
  },
  {
   "cell_type": "code",
   "execution_count": null,
   "metadata": {},
   "outputs": [],
   "source": [
    "%%bash\n",
    "gcc -o c_ex1 c_ex1.c\n",
    "c_ex1"
   ]
  },
  {
   "cell_type": "markdown",
   "metadata": {},
   "source": [
    "<hr style=\"border-width:4px; border-color:coral; border-style:solid\"</hr>\n",
    "\n",
    "## Call fortran from C\n",
    "\n",
    "All variables in fortran are passed by reference.   "
   ]
  },
  {
   "cell_type": "code",
   "execution_count": null,
   "metadata": {},
   "outputs": [],
   "source": [
    "%%file fill_array.f90\n",
    "\n",
    "subroutine fill_array(n,x)\n",
    "implicit none\n",
    "\n",
    "double precision x(n)\n",
    "integer n\n",
    "\n",
    "double precision dx, pi\n",
    "integer i\n",
    "\n",
    "pi = 4.d0*atan(1.d0)\n",
    "\n",
    "dx = 2.d0*pi/n\n",
    "do i = 1,n\n",
    "    x(i) = sin(i*dx)\n",
    "end do\n",
    "\n",
    "end"
   ]
  },
  {
   "cell_type": "code",
   "execution_count": null,
   "metadata": {},
   "outputs": [],
   "source": [
    "%%file c_demo15.c\n",
    "#include <stdio.h>\n",
    "#include <stdlib.h>\n",
    "#include <math.h>\n",
    "\n",
    "/* # Notice use of \"_\" - underscore in name. */\n",
    "void fill_array_(int* n, double x[]);    \n",
    "\n",
    "int main(int argc, char** argv)\n",
    "{\n",
    "    int n = 20;\n",
    "    int bytes = n*sizeof(double);\n",
    "    double* x = malloc(bytes);\n",
    "    \n",
    "    fill_array_(&n,x);\n",
    "        \n",
    "    for(int i = 0; i < n; i++)\n",
    "    {\n",
    "        printf(\"x[%2d] = %16.8f\\n\",i,x[i]);\n",
    "    }\n",
    "\n",
    "    free(x);\n",
    "    \n",
    "    return 0;\n",
    "}\n"
   ]
  },
  {
   "cell_type": "code",
   "execution_count": null,
   "metadata": {},
   "outputs": [],
   "source": [
    "%%bash\n",
    "gfortran -c fill_array.f90\n",
    "gcc -o c_demo15 c_demo15.c fill_array.o\n",
    "c_demo15"
   ]
  },
  {
   "cell_type": "code",
   "execution_count": null,
   "metadata": {},
   "outputs": [],
   "source": []
  },
  {
   "cell_type": "code",
   "execution_count": null,
   "metadata": {},
   "outputs": [],
   "source": []
  }
 ],
 "metadata": {
  "kernelspec": {
   "display_name": "Python 3",
   "language": "python",
   "name": "python3"
  },
  "language_info": {
   "codemirror_mode": {
    "name": "ipython",
    "version": 3
   },
   "file_extension": ".py",
   "mimetype": "text/x-python",
   "name": "python",
   "nbconvert_exporter": "python",
   "pygments_lexer": "ipython3",
   "version": "3.7.4"
  }
 },
 "nbformat": 4,
 "nbformat_minor": 2
}
