{
 "cells": [
  {
   "cell_type": "markdown",
   "metadata": {},
   "source": [
    "<hr style=\"border-width:4px; border-color:coral\"></hr>\n",
    "\n",
    "## Simple CUDA programs\n",
    "\n",
    "<hr style=\"border-width:4px; border-color:coral\"></hr>\n",
    "\n",
    "In the following simplest possible CUDA program, we launch a single kernel with one thread. "
   ]
  },
  {
   "cell_type": "code",
   "execution_count": 5,
   "metadata": {},
   "outputs": [
    {
     "name": "stdout",
     "output_type": "stream",
     "text": [
      "Writing demo_00.cu\n"
     ]
    }
   ],
   "source": [
    "%%file demo_00.cu\n",
    "\n",
    "__global__ void kernel( void ) \n",
    "{\n",
    "    ;\n",
    "}\n",
    "\n",
    "int main(void) \n",
    "{\n",
    "    kernel<<<1,1>>>();\n",
    "    return 0;\n",
    "}"
   ]
  },
  {
   "cell_type": "markdown",
   "metadata": {},
   "source": []
  },
  {
   "cell_type": "code",
   "execution_count": null,
   "metadata": {},
   "outputs": [],
   "source": [
    "%%bash \n",
    "\n",
    "nvcc  -o demo_00 demo_00.cu\n",
    "\n",
    "srun demo_00"
   ]
  },
  {
   "cell_type": "code",
   "execution_count": 3,
   "metadata": {},
   "outputs": [
    {
     "name": "stdout",
     "output_type": "stream",
     "text": [
      "Overwriting hello_demo.cu\n"
     ]
    }
   ],
   "source": [
    "%%file hello_demo.cu\n",
    "\n",
    "#include <stdio.h>\n",
    "\n",
    "__global__ void kernel( void ) \n",
    "{\n",
    "    int ix = blockIdx.x*blockDim.x + threadIdx.x;\n",
    "    printf(\"Thread %d in block %d : Hello, World from ix=%d\\n\", threadIdx.x, blockIdx.x,ix);\n",
    "}\n",
    "\n",
    "int main(void) \n",
    "{\n",
    "    dim3 grid(3);\n",
    "    dim3 block(4);\n",
    "    kernel<<<grid,block>>>();\n",
    "    cudaDeviceSynchronize();\n",
    "\n",
    "    return 0;\n",
    "}\n"
   ]
  },
  {
   "cell_type": "code",
   "execution_count": 4,
   "metadata": {},
   "outputs": [
    {
     "name": "stdout",
     "output_type": "stream",
     "text": [
      "Thread 0 in block 2 : Hello, World from ix=8\n",
      "Thread 1 in block 2 : Hello, World from ix=9\n",
      "Thread 2 in block 2 : Hello, World from ix=10\n",
      "Thread 3 in block 2 : Hello, World from ix=11\n",
      "Thread 0 in block 0 : Hello, World from ix=0\n",
      "Thread 1 in block 0 : Hello, World from ix=1\n",
      "Thread 2 in block 0 : Hello, World from ix=2\n",
      "Thread 3 in block 0 : Hello, World from ix=3\n",
      "Thread 0 in block 1 : Hello, World from ix=4\n",
      "Thread 1 in block 1 : Hello, World from ix=5\n",
      "Thread 2 in block 1 : Hello, World from ix=6\n",
      "Thread 3 in block 1 : Hello, World from ix=7\n"
     ]
    }
   ],
   "source": [
    "%%bash \n",
    "\n",
    "nvcc  -arch=sm_52 -o hello_demo hello_demo.cu\n",
    "\n",
    "srun --nodelist=node4 hello_demo"
   ]
  },
  {
   "cell_type": "markdown",
   "metadata": {},
   "source": [
    "Reorganizing the above, we see how each thread in a block maps to a global thread index 'ix'.\n",
    "\n",
    "**Block 0**\n",
    "\n",
    "    Thread 0 in block 0 : Hello, World from ix=0\n",
    "    Thread 1 in block 0 : Hello, World from ix=1\n",
    "    Thread 2 in block 0 : Hello, World from ix=2\n",
    "    Thread 3 in block 0 : Hello, World from ix=3\n",
    "\n",
    "**Block 1**\n",
    "\n",
    "    Thread 0 in block 1 : Hello, World from ix=4\n",
    "    Thread 1 in block 1 : Hello, World from ix=5\n",
    "    Thread 2 in block 1 : Hello, World from ix=6\n",
    "    Thread 3 in block 1 : Hello, World from ix=7\n",
    "\n",
    "**Block 2**\n",
    "\n",
    "    Thread 0 in block 2 : Hello, World from ix=8\n",
    "    Thread 1 in block 2 : Hello, World from ix=9\n",
    "    Thread 2 in block 2 : Hello, World from ix=10\n",
    "    Thread 3 in block 2 : Hello, World from ix=11\n"
   ]
  },
  {
   "cell_type": "code",
   "execution_count": 30,
   "metadata": {},
   "outputs": [
    {
     "name": "stdout",
     "output_type": "stream",
     "text": [
      "Overwriting add.cu\n"
     ]
    }
   ],
   "source": [
    "%%file add.cu\n",
    "\n",
    "#include <stdio.h>\n",
    "\n",
    "__device__ int addem( int a, int b ) \n",
    "{\n",
    "    return a + b;\n",
    "}\n",
    "\n",
    "__global__ void add( int a, int b, int *c ) \n",
    "{\n",
    "    *c = addem( a, b );\n",
    "}\n",
    "\n",
    "int main(void) \n",
    "{\n",
    "    int a,b,c;\n",
    "    int *dev_c;\n",
    "\n",
    "    /* Allocate memory on the device */\n",
    "    cudaMalloc( (void**)&dev_c, sizeof(int));\n",
    "\n",
    "    a = 2;\n",
    "    b = 7;\n",
    "    add<<<1,1>>>(a, b, dev_c );\n",
    "\n",
    "    cudaDeviceSynchronize();\n",
    "\n",
    "    /* Copy contents of dev_c back to c */\n",
    "    cudaMemcpy(&c, dev_c, sizeof(int), cudaMemcpyDeviceToHost);\n",
    "    \n",
    "    printf( \"%d + %d = %d\\n\", a,b,c);\n",
    "\n",
    "    cudaFree(dev_c);\n",
    "\n",
    "}\n",
    "\n",
    "\n"
   ]
  },
  {
   "cell_type": "code",
   "execution_count": 31,
   "metadata": {},
   "outputs": [
    {
     "name": "stdout",
     "output_type": "stream",
     "text": [
      "2 + 7 = 9\n"
     ]
    }
   ],
   "source": [
    "%%bash \n",
    "\n",
    "nvcc -o add add.cu\n",
    "\n",
    "# on redhawk\n",
    "srun -p gpuq add\n",
    "\n",
    "#On R2\n",
    "# srun -p gpuq add"
   ]
  },
  {
   "cell_type": "code",
   "execution_count": 32,
   "metadata": {},
   "outputs": [
    {
     "name": "stdout",
     "output_type": "stream",
     "text": [
      "Overwriting simple_parallel.cu\n"
     ]
    }
   ],
   "source": [
    "%%file simple_parallel.cu\n",
    "\n",
    "#include <stdio.h>\n",
    "\n",
    "__global__ void add( int *c) \n",
    "{\n",
    "    /* Since we have only one thread per block, the blockIdx and threadIdx are the same */\n",
    "    int id = blockIdx.x;  \n",
    "    c[id] = id;\n",
    "}\n",
    "\n",
    "int main(void) \n",
    "{\n",
    "    int N = 10;\n",
    "    \n",
    "    /* Allocate memory on the device */\n",
    "    int *dev_c;\n",
    "    cudaMalloc( (void**)&dev_c, N*sizeof(int));\n",
    "\n",
    "    /* Launch N thread blocks of 1 thread per block */\n",
    "    dim3 grid(N);  /* 1 x N array of blocks */\n",
    "    dim3 block(1); /* 1x1 thread block */\n",
    "    add<<<grid,block>>>(dev_c);\n",
    "    \n",
    "    cudaDeviceSynchronize();\n",
    "\n",
    "    /* Copy contents of dev_c back to c */\n",
    "    int c[N];\n",
    "    cudaMemcpy( &c, dev_c, N*sizeof(int), cudaMemcpyDeviceToHost);\n",
    "\n",
    "    for(int i = 0; i < N; i++)\n",
    "    {\n",
    "        printf( \"c[%d] = %d\\n\",i,c[i]);\n",
    "    }\n",
    "\n",
    "    cudaFree(dev_c);\n",
    "\n",
    "}"
   ]
  },
  {
   "cell_type": "code",
   "execution_count": 33,
   "metadata": {},
   "outputs": [
    {
     "name": "stdout",
     "output_type": "stream",
     "text": [
      "c[0] = 0\n",
      "c[1] = 1\n",
      "c[2] = 2\n",
      "c[3] = 3\n",
      "c[4] = 4\n",
      "c[5] = 5\n",
      "c[6] = 6\n",
      "c[7] = 7\n",
      "c[8] = 8\n",
      "c[9] = 9\n"
     ]
    }
   ],
   "source": [
    "%%bash\n",
    "\n",
    "nvcc -o simple_parallel simple_parallel.cu\n",
    "\n",
    "# On Redhawk\n",
    "srun  simple_parallel\n",
    "\n",
    "# On R2\n",
    "# srun -p gpuq simple_parallel"
   ]
  },
  {
   "cell_type": "code",
   "execution_count": null,
   "metadata": {},
   "outputs": [],
   "source": []
  }
 ],
 "metadata": {
  "kernelspec": {
   "display_name": "Python 3",
   "language": "python",
   "name": "python3"
  },
  "language_info": {
   "codemirror_mode": {
    "name": "ipython",
    "version": 3
   },
   "file_extension": ".py",
   "mimetype": "text/x-python",
   "name": "python",
   "nbconvert_exporter": "python",
   "pygments_lexer": "ipython3",
   "version": "3.7.6"
  }
 },
 "nbformat": 4,
 "nbformat_minor": 2
}
